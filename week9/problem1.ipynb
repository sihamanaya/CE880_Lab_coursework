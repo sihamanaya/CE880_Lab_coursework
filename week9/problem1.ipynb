{
  "cells": [
    {
      "cell_type": "markdown",
      "metadata": {
        "id": "view-in-github",
        "colab_type": "text"
      },
      "source": [
        "<a href=\"https://colab.research.google.com/github/sihamanaya/CE880_Lab_coursework/blob/main/week9/problem1.ipynb\" target=\"_parent\"><img src=\"https://colab.research.google.com/assets/colab-badge.svg\" alt=\"Open In Colab\"/></a>"
      ]
    },
    {
      "cell_type": "markdown",
      "metadata": {
        "id": "D_VEu5xfB0Y4"
      },
      "source": [
        "Before you turn this problem in, make sure everything runs as expected. First, **restart the kernel** (in the menubar, select Kernel$\\rightarrow$Restart) and then **run all cells** (in the menubar, select Cell$\\rightarrow$Run All).\n",
        "\n",
        "Make sure you fill in any place that says `YOUR CODE HERE` or \"YOUR ANSWER HERE\", as well as your name and collaborators below:"
      ]
    },
    {
      "cell_type": "code",
      "execution_count": null,
      "metadata": {
        "id": "DSgfOyHGB0Y7"
      },
      "outputs": [],
      "source": [
        "NAME = \"SIHAM ANAYA\"\n",
        "COLLABORATORS = \"2316969\""
      ]
    },
    {
      "cell_type": "markdown",
      "metadata": {
        "id": "Wa0oqVUbB0Y_"
      },
      "source": [
        "---"
      ]
    },
    {
      "cell_type": "markdown",
      "metadata": {
        "id": "ek6QzRQVB0Y_"
      },
      "source": [
        "---\n",
        "# Welcome to CE880\n",
        "### This is your week-9 : Problem notebook\n"
      ]
    },
    {
      "cell_type": "markdown",
      "metadata": {
        "id": "Zbw9DdaDB0ZA"
      },
      "source": [
        "---\n",
        "## Question 1:\n",
        "\n",
        "#### Balancing Imbalance Dataset\n",
        "An imbalanced dataset is a dataset where the distribution of `classes (or labels)` is skewed, meaning that one class has significantly more instances than the other class(es). This can lead to issues when training machine learning models, as they may become biased towards the majority class and perform poorly on predicting the minority class.\n",
        "\n",
        "To balance an imbalanced dataset using a basic approach, one common technique is random undersampling, where instances from the majority class are randomly removed until the dataset is balanced. Write a Python function to perform random undersampling:"
      ]
    },
    {
      "cell_type": "code",
      "execution_count": 7,
      "metadata": {
        "deletable": false,
        "nbgrader": {
          "cell_type": "code",
          "checksum": "a2b351e50b3dbee7097b40120b95cdea",
          "grade": false,
          "grade_id": "my_model_ans",
          "locked": false,
          "schema_version": 3,
          "solution": true,
          "task": false
        },
        "id": "P9lVi6oZB0ZC",
        "outputId": "581ccce8-7bd5-4974-8822-ad7caec0976a",
        "colab": {
          "base_uri": "https://localhost:8080/"
        }
      },
      "outputs": [
        {
          "output_type": "stream",
          "name": "stdout",
          "text": [
            "   squareMeters  numberOfRooms  hasYard  hasPool  floors  cityCode  \\\n",
            "0         75523              3        0        1      63      9373   \n",
            "1         80771             39        1        1      98     39381   \n",
            "2         55712             58        0        1      19     34457   \n",
            "3         32316             47        0        0       6     27939   \n",
            "4         70429             19        1        1      90     38045   \n",
            "\n",
            "   cityPartRange  numPrevOwners  made  isNewBuilt  hasStormProtector  \\\n",
            "0              3              8  2005           0                  1   \n",
            "1              8              6  2015           1                  0   \n",
            "2              6              8  2021           0                  0   \n",
            "3             10              4  2012           0                  1   \n",
            "4              3              7  1990           1                  0   \n",
            "\n",
            "   basement  attic  garage  hasStorageRoom  hasGuestRoom      price category  \n",
            "0      4313   9005     956               0             7  7559081.5    Basic  \n",
            "1      3653   2436     128               1             2  8085989.5   Luxury  \n",
            "2      2937   8852     135               1             9  5574642.1    Basic  \n",
            "3       659   7141     359               0             3  3232561.2    Basic  \n",
            "4      8435   2429     292               1             4  7055052.0   Luxury  \n"
          ]
        }
      ],
      "source": [
        "\n",
        "import pandas as pd\n",
        "import numpy as np\n",
        "\n",
        "# Read the CSV file into a DataFrame\n",
        "data = pd.read_csv('ParisHousingClass.csv')\n",
        "\n",
        "# Display the first few rows of the DataFrame\n",
        "print(data.head())\n",
        "\n",
        "\n",
        "def balance_data(X, y):\n",
        "    \"\"\"\n",
        "    Balance the dataset by randomly undersampling the majority class.\n",
        "\n",
        "    Parameters:\n",
        "    - X (numpy.ndarray): Feature data.\n",
        "    - y (numpy.ndarray): Target labels.\n",
        "\n",
        "    Returns:\n",
        "    - X_balanced (numpy.ndarray): Balanced feature data.\n",
        "    - y_balanced (numpy.ndarray): Balanced target labels.\n",
        "    \"\"\"\n",
        "    # YOUR CODE HERE\n",
        "\n",
        "    # Find the indices of each class\n",
        "    indices_class_0 = np.where(y == 0)[0]\n",
        "    indices_class_1 = np.where(y == 1)[0]\n",
        "\n",
        "    # Determine the minority and majority class based on the class indices' counts.\n",
        "    if len(indices_class_1) < len(indices_class_0):\n",
        "        minority_indices = indices_class_1\n",
        "        majority_indices = indices_class_0\n",
        "    else:\n",
        "        minority_indices = indices_class_0\n",
        "        majority_indices = indices_class_1\n",
        "\n",
        "    # Set a random seed for reproducibility.\n",
        "    np.random.seed(42)\n",
        "\n",
        "    # Randomly sample from the majority class to match the minority class size.\n",
        "    downsampled_majority_indices = np.random.choice(majority_indices, size=len(minority_indices), replace=False)\n",
        "\n",
        "    # Combine the downsampled majority class indices with the minority class indices.\n",
        "    balanced_indices = np.concatenate((minority_indices, downsampled_majority_indices))\n",
        "\n",
        "    # Subset the original X and y based on the balanced indices.\n",
        "    X_balanced = X[balanced_indices]\n",
        "    y_balanced = y[balanced_indices]\n",
        "\n",
        "    return X_balanced, y_balanced\n",
        "\n",
        "\n",
        "\n",
        "#raise NotImplementedError()\n",
        "\n",
        "\n"
      ]
    },
    {
      "cell_type": "code",
      "execution_count": 8,
      "metadata": {
        "deletable": false,
        "editable": false,
        "nbgrader": {
          "cell_type": "code",
          "checksum": "bf63a0b04b308eac0a19464ac0dec80a",
          "grade": true,
          "grade_id": "balance_test1",
          "locked": true,
          "points": 4,
          "schema_version": 3,
          "solution": false,
          "task": false
        },
        "id": "LGpw1_J0B0ZE",
        "colab": {
          "base_uri": "https://localhost:8080/"
        },
        "outputId": "59988092-3f51-4c9d-cc0d-d69ca0931418"
      },
      "outputs": [
        {
          "output_type": "stream",
          "name": "stdout",
          "text": [
            "[0 0 1 1]\n"
          ]
        }
      ],
      "source": [
        "# Passing this test case will give you 4 marks\n",
        "# Test case with imbalanced dataset\n",
        "X_test = np.array([[1, 2], [2, 3], [3, 4], [4, 5], [5, 6], [6, 7]])\n",
        "y_test = np.array([0, 0, 1, 1, 1, 1])\n",
        "\n",
        "X_balanced_test, y_balanced_test = balance_data(X_test, y_test)\n",
        "print(y_balanced_test)\n",
        "# Check if the balanced dataset has equal instances of each class\n",
        "unique_classes, class_counts = np.unique(y_balanced_test, return_counts=True)\n",
        "assert np.all(class_counts == class_counts[0]), \"Balanced dataset should have equal instances of each class\""
      ]
    },
    {
      "cell_type": "code",
      "execution_count": 9,
      "metadata": {
        "deletable": false,
        "editable": false,
        "nbgrader": {
          "cell_type": "code",
          "checksum": "c18a0d0009af56e4382a72b758b3a89b",
          "grade": true,
          "grade_id": "balance_test2",
          "locked": true,
          "points": 5,
          "schema_version": 3,
          "solution": false,
          "task": false
        },
        "id": "hf8RZF7fB0ZF",
        "colab": {
          "base_uri": "https://localhost:8080/"
        },
        "outputId": "5770edd2-a45b-4ad7-ca05-ab7dec737b3c"
      },
      "outputs": [
        {
          "output_type": "stream",
          "name": "stdout",
          "text": [
            "[1 0]\n"
          ]
        }
      ],
      "source": [
        "# Passing this test case will give you 5 marks\n",
        "# Test case with imbalanced dataset\n",
        "\n",
        "\n",
        "X_test = np.array([[1, 2], [2, 3], [3, 4], [4, 5], [5, 6], [6, 7]])\n",
        "y_test = np.array([0, 0, 0, 0, 0, 1])\n",
        "\n",
        "X_balanced_test, y_balanced_test = balance_data(X_test, y_test)\n",
        "print(y_balanced_test)\n",
        "# Check if the balanced dataset has equal instances of each class\n",
        "unique_classes, class_counts = np.unique(y_balanced_test, return_counts=True)\n",
        "assert np.all(class_counts == class_counts[0]), \"Balanced dataset should have equal instances of each class\""
      ]
    }
  ],
  "metadata": {
    "kernelspec": {
      "display_name": "Python 3",
      "language": "python",
      "name": "python3"
    },
    "language_info": {
      "codemirror_mode": {
        "name": "ipython",
        "version": 3
      },
      "file_extension": ".py",
      "mimetype": "text/x-python",
      "name": "python",
      "nbconvert_exporter": "python",
      "pygments_lexer": "ipython3",
      "version": "3.7.11"
    },
    "colab": {
      "provenance": [],
      "include_colab_link": true
    }
  },
  "nbformat": 4,
  "nbformat_minor": 0
}