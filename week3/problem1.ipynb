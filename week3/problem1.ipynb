{
  "cells": [
    {
      "cell_type": "markdown",
      "metadata": {
        "id": "view-in-github",
        "colab_type": "text"
      },
      "source": [
        "<a href=\"https://colab.research.google.com/github/sihamanaya/CE880_Lab_coursework/blob/main/week3/problem1.ipynb\" target=\"_parent\"><img src=\"https://colab.research.google.com/assets/colab-badge.svg\" alt=\"Open In Colab\"/></a>"
      ]
    },
    {
      "cell_type": "markdown",
      "metadata": {
        "id": "-cSYMsMfei_K"
      },
      "source": [
        "Before you turn this problem in, make sure everything runs as expected. First, **restart the kernel** (in the menubar, select Kernel$\\rightarrow$Restart) and then **run all cells** (in the menubar, select Cell$\\rightarrow$Run All).\n",
        "\n",
        "Make sure you fill in any place that says `YOUR CODE HERE` or \"YOUR ANSWER HERE\", as well as your name and collaborators below:"
      ]
    },
    {
      "cell_type": "code",
      "execution_count": null,
      "metadata": {
        "id": "vgghUKH7ei_N"
      },
      "outputs": [],
      "source": [
        "NAME = \"\"\n",
        "COLLABORATORS = \"\""
      ]
    },
    {
      "cell_type": "markdown",
      "metadata": {
        "id": "gzDGuhswei_P"
      },
      "source": [
        "---"
      ]
    },
    {
      "cell_type": "markdown",
      "metadata": {
        "id": "6HvDfGDuE5mN"
      },
      "source": [
        "---\n",
        "# Welcome to CE880\n",
        "### This is your week-3 : Problem 1 notebook\n",
        "\n",
        "For this problem set, we'll be using the Jupyter notebook and please upload this notebook to [Google Colab](https://colab.research.google.com/).\n"
      ]
    },
    {
      "cell_type": "markdown",
      "metadata": {
        "id": "ZlWkgitfE5mO"
      },
      "source": [
        "---\n",
        "## Question 1:\n",
        "\n",
        "Write a Python function to find the mode(s) in a `list` of integers. The mode is the number that appears most frequently. However, the challenge here is that the list may contain multiple `modes`, and your task is to efficiently find and return all modes.\n"
      ]
    },
    {
      "cell_type": "code",
      "execution_count": 2,
      "metadata": {
        "deletable": false,
        "id": "7FBRZiZUE5mP",
        "nbgrader": {
          "cell_type": "code",
          "checksum": "3f81a01e80e71f34ddf347595c852fa0",
          "grade": false,
          "grade_id": "my_mode",
          "locked": false,
          "schema_version": 3,
          "solution": true
        }
      },
      "outputs": [],
      "source": [
        "\n",
        "def find_modes(numbers):\n",
        "    \"\"\"Python function to find the mode(s) in a list of integers.\n",
        "    Python function to find the mode(s) in a list of integers.\n",
        "\n",
        "    Parameters:\n",
        "        numbers (list of int): The input list of integers.\n",
        "\n",
        "    Returns:\n",
        "        list: A list containing the mode(s) in the input list.\n",
        "    \"\"\"\n",
        "    from collections import Counter  # Importing Counter within the function\n",
        "\n",
        "    # Count the occurrences of each number\n",
        "    num_counts = Counter(numbers)\n",
        "\n",
        "    # Find the maximum count\n",
        "    max_count = max(num_counts.values())\n",
        "\n",
        "    # Find all numbers with the maximum count (modes)\n",
        "    modes = [num for num, count in num_counts.items() if count == max_count]\n",
        "\n",
        "    return modes\n",
        "    raise NotImplementedError()\n",
        "\n"
      ]
    },
    {
      "cell_type": "code",
      "execution_count": 3,
      "metadata": {
        "id": "vWQn7pU5ei_T",
        "outputId": "14c7df82-6288-4f51-e060-f562c174a249",
        "colab": {
          "base_uri": "https://localhost:8080/"
        }
      },
      "outputs": [
        {
          "output_type": "execute_result",
          "data": {
            "text/plain": [
              "[3]"
            ]
          },
          "metadata": {},
          "execution_count": 3
        }
      ],
      "source": [
        "numbers = [3, 5, 3, 3, 1, 5, 2]\n",
        "find_modes(numbers)"
      ]
    },
    {
      "cell_type": "code",
      "execution_count": 4,
      "metadata": {
        "deletable": false,
        "editable": false,
        "id": "ootdMSn7E5mP",
        "nbgrader": {
          "cell_type": "code",
          "checksum": "e71cba6d8f225cd444f54ebd68fcd47d",
          "grade": true,
          "grade_id": "my_mode_test",
          "locked": false,
          "points": 2,
          "schema_version": 3,
          "solution": false
        }
      },
      "outputs": [],
      "source": [
        "\"\"\"Check your output\"\"\"\n",
        "numbers = [2, 3, 5, 2, 8, 7, 2, 5, 4, 6, 5, 2]\n",
        "assert find_modes(numbers) == [2]\n",
        "\n",
        "numbers = [2, 3, 5, 2, 3, 3, 2, 3, 4, 6, 5, 2]\n",
        "assert find_modes(numbers) == [2, 3]"
      ]
    },
    {
      "cell_type": "markdown",
      "metadata": {
        "id": "SaECaolwE5mQ"
      },
      "source": [
        "---\n",
        "\n",
        "## Question 2:\n",
        "\n",
        "Write a Python function to calculate the `Interquartile Range (IQR)` for a given list of numerical values."
      ]
    },
    {
      "cell_type": "code",
      "execution_count": 12,
      "metadata": {
        "deletable": false,
        "id": "b9pap4PtE5mQ",
        "nbgrader": {
          "cell_type": "code",
          "checksum": "bc5f2102a12cee036ff26ba7fe599a74",
          "grade": false,
          "grade_id": "my_quartile_ans",
          "locked": false,
          "schema_version": 3,
          "solution": true
        }
      },
      "outputs": [],
      "source": [
        "import numpy as np\n",
        "def calculate_iqr(data):\n",
        "    \"\"\"Write a Python function to calculate the `Interquartile Range (IQR)`\n",
        "\n",
        "    Python function to calculate the Interquartile Range (IQR) for a given list of numerical values.\n",
        "\n",
        "    Parameters:\n",
        "        data (list of float or int): The input list of numerical values.\n",
        "\n",
        "    Returns:\n",
        "        float: The Interquartile Range (IQR) of the input data.\n",
        "    \"\"\"\n",
        "    # Calculate the first quartile (Q1)\n",
        "    q1 = np.percentile(data, 25)\n",
        "\n",
        "    # Calculate the third quartile (Q3)\n",
        "    q3 = np.percentile(data, 75)\n",
        "\n",
        "    # Calculate the Interquartile Range (IQR)\n",
        "    iqr = q3 - q1\n",
        "\n",
        "    return iqr\n"
      ]
    },
    {
      "cell_type": "code",
      "execution_count": 13,
      "metadata": {
        "id": "svKKbMMeei_W",
        "outputId": "0b99379c-7bd1-4d51-fa6f-8da177f8ceba",
        "colab": {
          "base_uri": "https://localhost:8080/"
        }
      },
      "outputs": [
        {
          "output_type": "execute_result",
          "data": {
            "text/plain": [
              "4.0"
            ]
          },
          "metadata": {},
          "execution_count": 13
        }
      ],
      "source": [
        "data = [12, 15, 20, 25, 30, 15, 10, 15, 16, 15]\n",
        "calculate_iqr(data)"
      ]
    },
    {
      "cell_type": "code",
      "execution_count": 14,
      "metadata": {
        "deletable": false,
        "editable": false,
        "id": "f2xlQ2igE5mR",
        "nbgrader": {
          "cell_type": "code",
          "checksum": "6e08b724f5734970ef13c810da0909c9",
          "grade": true,
          "grade_id": "my_quartile_test",
          "locked": false,
          "points": 1,
          "schema_version": 3,
          "solution": false
        },
        "outputId": "0af80f8d-04e2-4457-9e74-2bbf1632a2f9",
        "colab": {
          "base_uri": "https://localhost:8080/",
          "height": 233
        }
      },
      "outputs": [
        {
          "output_type": "error",
          "ename": "AssertionError",
          "evalue": "",
          "traceback": [
            "\u001b[0;31m---------------------------------------------------------------------------\u001b[0m",
            "\u001b[0;31mAssertionError\u001b[0m                            Traceback (most recent call last)",
            "\u001b[0;32m<ipython-input-14-693e7deb0247>\u001b[0m in \u001b[0;36m<cell line: 3>\u001b[0;34m()\u001b[0m\n\u001b[1;32m      1\u001b[0m \u001b[0;34m\"\"\"Check that correct answers here\"\"\"\u001b[0m\u001b[0;34m\u001b[0m\u001b[0;34m\u001b[0m\u001b[0m\n\u001b[1;32m      2\u001b[0m \u001b[0mdata\u001b[0m \u001b[0;34m=\u001b[0m \u001b[0;34m[\u001b[0m\u001b[0;36m12\u001b[0m\u001b[0;34m,\u001b[0m \u001b[0;36m15\u001b[0m\u001b[0;34m,\u001b[0m \u001b[0;36m20\u001b[0m\u001b[0;34m,\u001b[0m \u001b[0;36m25\u001b[0m\u001b[0;34m,\u001b[0m \u001b[0;36m30\u001b[0m\u001b[0;34m,\u001b[0m \u001b[0;36m35\u001b[0m\u001b[0;34m,\u001b[0m \u001b[0;36m40\u001b[0m\u001b[0;34m,\u001b[0m \u001b[0;36m45\u001b[0m\u001b[0;34m,\u001b[0m \u001b[0;36m50\u001b[0m\u001b[0;34m,\u001b[0m \u001b[0;36m55\u001b[0m\u001b[0;34m]\u001b[0m\u001b[0;34m\u001b[0m\u001b[0;34m\u001b[0m\u001b[0m\n\u001b[0;32m----> 3\u001b[0;31m \u001b[0;32massert\u001b[0m \u001b[0mcalculate_iqr\u001b[0m\u001b[0;34m(\u001b[0m\u001b[0mdata\u001b[0m\u001b[0;34m)\u001b[0m \u001b[0;34m==\u001b[0m \u001b[0;36m25\u001b[0m\u001b[0;34m\u001b[0m\u001b[0;34m\u001b[0m\u001b[0m\n\u001b[0m\u001b[1;32m      4\u001b[0m \u001b[0;34m\u001b[0m\u001b[0m\n\u001b[1;32m      5\u001b[0m \u001b[0mdata\u001b[0m \u001b[0;34m=\u001b[0m \u001b[0;34m[\u001b[0m\u001b[0;36m42\u001b[0m\u001b[0;34m,\u001b[0m \u001b[0;36m55\u001b[0m\u001b[0;34m,\u001b[0m \u001b[0;36m40\u001b[0m\u001b[0;34m,\u001b[0m \u001b[0;36m35\u001b[0m\u001b[0;34m,\u001b[0m \u001b[0;36m50\u001b[0m\u001b[0;34m,\u001b[0m \u001b[0;36m45\u001b[0m\u001b[0;34m,\u001b[0m \u001b[0;36m30\u001b[0m\u001b[0;34m,\u001b[0m \u001b[0;36m45\u001b[0m\u001b[0;34m,\u001b[0m \u001b[0;36m30\u001b[0m\u001b[0;34m,\u001b[0m \u001b[0;36m55\u001b[0m\u001b[0;34m]\u001b[0m\u001b[0;34m\u001b[0m\u001b[0;34m\u001b[0m\u001b[0m\n",
            "\u001b[0;31mAssertionError\u001b[0m: "
          ]
        }
      ],
      "source": [
        "\"\"\"Check that correct answers here\"\"\"\n",
        "data = [12, 15, 20, 25, 30, 35, 40, 45, 50, 55]\n",
        "assert calculate_iqr(data) == 25\n",
        "\n",
        "data = [42, 55, 40, 35, 50, 45, 30, 45, 30, 55]\n",
        "assert  calculate_iqr(data) == 15"
      ]
    },
    {
      "cell_type": "markdown",
      "metadata": {
        "id": "3viaglBtE5mR"
      },
      "source": [
        "---\n",
        "## Question 3:\n",
        "\n",
        "Create a function that, given a data frame `df`, returns the name feature with the highest standard deviation across all species. For instance, if the function is called `feature_with_highest_std(data):`,\" it should return `pl` as the feature with the highest standard deviation, where `pl` stands for `petal length (cm)`."
      ]
    },
    {
      "cell_type": "code",
      "execution_count": 17,
      "metadata": {
        "deletable": false,
        "nbgrader": {
          "cell_type": "code",
          "checksum": "6c0af82a6b56f319e1765e6ba0dbf31e",
          "grade": false,
          "grade_id": "ans_high_std",
          "locked": false,
          "schema_version": 3,
          "solution": true,
          "task": false
        },
        "id": "Z-JlLntOei_c"
      },
      "outputs": [],
      "source": [
        "import math\n",
        "from sklearn.datasets import load_iris\n",
        "import pandas as pd\n",
        "import numpy as np\n",
        "\n",
        "data = load_iris()\n",
        "df = pd.DataFrame(data=data.data, columns=data.feature_names)\n",
        "df = df.rename(columns={\"sepal length (cm)\": \"sl\", \"sepal width (cm)\": \"sw\",\n",
        "                        \"petal length (cm)\":\"pl\", \"petal width (cm)\": \"pw\" })\n",
        "df.head()\n",
        "\n",
        "def feature_with_highest_std(data):\n",
        "    \"\"\"\n",
        "    Given a data frame df, returns the name feature with the highest standard deviation across all species.\n",
        "\n",
        "    Parameters:\n",
        "        data (DataFrame): The input DataFrame.\n",
        "\n",
        "    Returns:\n",
        "        str: The name of the feature with the highest standard deviation.\n",
        "    \"\"\"\n",
        "    # Calculate standard deviation for each feature\n",
        "    std_devs = data.std()\n",
        "\n",
        "    # Find the feature with the highest standard deviation\n",
        "    highest_std_feature = std_devs.idxmax()\n",
        "\n",
        "    return highest_std_feature\n",
        "\n",
        "    raise NotImplementedError()\n",
        "\n",
        "\n"
      ]
    },
    {
      "cell_type": "code",
      "execution_count": 18,
      "metadata": {
        "deletable": false,
        "editable": false,
        "id": "6AuPQgQfE5mS",
        "nbgrader": {
          "cell_type": "code",
          "checksum": "1640f6e29dee77990076c2e29bdb162f",
          "grade": true,
          "grade_id": "my_std_test",
          "locked": true,
          "points": 2,
          "schema_version": 3,
          "solution": false,
          "task": false
        }
      },
      "outputs": [],
      "source": [
        "\"\"\"Test you solution\"\"\"\n",
        "assert feature_with_highest_std(df) == 'pl'"
      ]
    }
  ],
  "metadata": {
    "colab": {
      "provenance": [],
      "include_colab_link": true
    },
    "kernelspec": {
      "display_name": "Python 3",
      "language": "python",
      "name": "python3"
    },
    "language_info": {
      "codemirror_mode": {
        "name": "ipython",
        "version": 3
      },
      "file_extension": ".py",
      "mimetype": "text/x-python",
      "name": "python",
      "nbconvert_exporter": "python",
      "pygments_lexer": "ipython3",
      "version": "3.7.10"
    }
  },
  "nbformat": 4,
  "nbformat_minor": 0
}