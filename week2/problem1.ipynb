{
  "cells": [
    {
      "cell_type": "markdown",
      "metadata": {
        "id": "view-in-github",
        "colab_type": "text"
      },
      "source": [
        "<a href=\"https://colab.research.google.com/github/sihamanaya/CE880_Lab_coursework/blob/main/week2/problem1.ipynb\" target=\"_parent\"><img src=\"https://colab.research.google.com/assets/colab-badge.svg\" alt=\"Open In Colab\"/></a>"
      ]
    },
    {
      "cell_type": "markdown",
      "metadata": {
        "id": "R5Y1F-zZ9qlI"
      },
      "source": [
        "Before you turn this problem in, make sure everything runs as expected. First, **restart the kernel** (in the menubar, select Kernel$\\rightarrow$Restart) and then **run all cells** (in the menubar, select Cell$\\rightarrow$Run All).\n",
        "\n",
        "Make sure you fill in any place that says `YOUR CODE HERE` or \"YOUR ANSWER HERE\", as well as your name and collaborators below:"
      ]
    },
    {
      "cell_type": "code",
      "execution_count": null,
      "metadata": {
        "id": "_Bp9xhys9qlM"
      },
      "outputs": [],
      "source": [
        "NAME = \"\"\n",
        "COLLABORATORS = \"\""
      ]
    },
    {
      "cell_type": "markdown",
      "metadata": {
        "id": "DIesiC-O9qlO"
      },
      "source": [
        "---"
      ]
    },
    {
      "cell_type": "markdown",
      "metadata": {
        "id": "R7PHBVR99qlP"
      },
      "source": [
        "---\n",
        "# Welcome to CE880\n",
        "### This is your week-2 : Problem 1 notebook\n",
        "### Spring Term 2023-24\n",
        "#### Prepared by Dr Haider Raza\n",
        "\n",
        "For this problem set, we'll be using the Jupyter notebook and please upload this notebook to [Google Colab](https://colab.research.google.com/).\n"
      ]
    },
    {
      "cell_type": "markdown",
      "metadata": {
        "id": "y3X12av99qlQ"
      },
      "source": [
        "---\n",
        "## Question 1:\n",
        "\n",
        "Write a Python function that takes a list of numbers and returns a list of their sigmoid values.\n",
        "Hint: round the value to two decimal points.\n",
        "![A](https://miro.medium.com/v2/resize:fit:1033/0*D5do3xhv5ulF50w2.png \"Sigmoid\")\n",
        "By solving this question correctly you will get 1 point.\n"
      ]
    },
    {
      "cell_type": "code",
      "execution_count": 30,
      "metadata": {
        "deletable": false,
        "nbgrader": {
          "cell_type": "code",
          "checksum": "82e2aeb530a75a846bc5bd9c91893ac0",
          "grade": false,
          "grade_id": "cosine_ans",
          "locked": false,
          "schema_version": 3,
          "solution": true
        },
        "id": "ex7mlYRa9qlQ"
      },
      "outputs": [],
      "source": [
        "import math\n",
        "def calculate_sigmoid(numbers):\n",
        "    \"\"\"Write a Python function that takes a list of numbers and returns a list of their sigmoid values.\"\"\"\n",
        "    import math\n",
        "def calculate_sigmoid(numbers):\n",
        "    \"\"\"Write a Python function that takes a list of numbers and returns a list of their sigmoid values.\"\"\"\n",
        "\n",
        "#def sigmoid(x):\n",
        "   # \"\"\"Compute the sigmoid function for a given value.\"\"\"\n",
        "  #  return 1 / (1 + math.exp(-x))\n",
        "    sigmoid_values = [round((1 / (1 + math.exp(-num))),2) for num in numbers]\n",
        "    return sigmoid_values\n",
        "    raise NotImplementedError()"
      ]
    },
    {
      "cell_type": "code",
      "execution_count": 31,
      "metadata": {
        "id": "gvRRl5Is9qlR",
        "outputId": "54146872-470b-4cba-cf6f-0359f3ce373d",
        "colab": {
          "base_uri": "https://localhost:8080/"
        }
      },
      "outputs": [
        {
          "output_type": "stream",
          "name": "stdout",
          "text": [
            "[0.5, 0.73, 0.88, 0.05, 0.98]\n"
          ]
        }
      ],
      "source": [
        "numbers = [0, 1, 2, -3, 4]\n",
        "result = calculate_sigmoid(numbers)\n",
        "print(result)"
      ]
    },
    {
      "cell_type": "code",
      "execution_count": 32,
      "metadata": {
        "deletable": false,
        "editable": false,
        "nbgrader": {
          "cell_type": "code",
          "checksum": "e7770674290e2d4a76e2d797ded22120",
          "grade": true,
          "grade_id": "cosine_test",
          "locked": false,
          "points": 1,
          "schema_version": 3,
          "solution": false
        },
        "id": "Vtz5VB2K9qlS"
      },
      "outputs": [],
      "source": [
        "\"\"\"Check your answer by running this cell\"\"\"\n",
        "\n",
        "# Test case 1\n",
        "my = [0, math.pi / 2, math.pi, 100, 200, 230]\n",
        "assert calculate_sigmoid(my) == [0.5, 0.83, 0.96, 1.0, 1.0, 1.0]\n",
        "\n",
        "# Test case 2\n",
        "my = [0, 2, 4, 6, -30, 400]\n",
        "assert calculate_sigmoid(my) == [0.5, 0.88, 0.98, 1.0, 0.0, 1.0]"
      ]
    },
    {
      "cell_type": "markdown",
      "metadata": {
        "id": "VIiFSmE-9qlV"
      },
      "source": [
        "---\n",
        "\n",
        "## Question 2:\n",
        "\n",
        "Given an array of integers, find two numbers such that they add up to a specific target sum. Return the indices of the two numbers. For example, given the array `[2, 7, 11, 15]` and the target `9`, the function should return `[0, 1]` since `2 + 7 = 9`.\n",
        "\n",
        "By solving this question correctly you will get 1 point."
      ]
    },
    {
      "cell_type": "code",
      "execution_count": 40,
      "metadata": {
        "deletable": false,
        "nbgrader": {
          "cell_type": "code",
          "checksum": "d1ee6e06bb2ce6104d67f4aadaccfdae",
          "grade": false,
          "grade_id": "twosum_ans",
          "locked": false,
          "schema_version": 3,
          "solution": true
        },
        "id": "10hQhnIx9qlW"
      },
      "outputs": [],
      "source": [
        "def two_sum(nums, target):\n",
        "    \"\"\"Given an array of integers, find two numbers such that they add\n",
        "    up to a specific target sum. Return the indices of the two numbers.\"\"\"\n",
        "    num_dict = {}\n",
        "\n",
        "    for i, num in enumerate(nums):\n",
        "        complement = target - num\n",
        "        if complement in num_dict:\n",
        "            return [num_dict[complement], i]\n",
        "        num_dict[num] = i\n",
        "\n",
        "    return None  # If no such pair is found\n",
        "\n",
        "    raise NotImplementedError()"
      ]
    },
    {
      "cell_type": "code",
      "execution_count": 41,
      "metadata": {
        "id": "6QeNUqvU9qlW",
        "outputId": "659114e6-7e64-4a56-c385-2fc1cf7eff69",
        "colab": {
          "base_uri": "https://localhost:8080/"
        }
      },
      "outputs": [
        {
          "output_type": "stream",
          "name": "stdout",
          "text": [
            "[0, 1]\n"
          ]
        }
      ],
      "source": [
        "# Example for students\n",
        "nums = [2, 7, 11, 15]\n",
        "target = 9\n",
        "result = two_sum(nums, target)\n",
        "print(result)"
      ]
    },
    {
      "cell_type": "code",
      "execution_count": 42,
      "metadata": {
        "deletable": false,
        "editable": false,
        "nbgrader": {
          "cell_type": "code",
          "checksum": "f4ddff07e93a2d08f1421f01ef9df298",
          "grade": true,
          "grade_id": "twosum_test",
          "locked": false,
          "points": 1,
          "schema_version": 3,
          "solution": false
        },
        "id": "ejYiM74J9qlX"
      },
      "outputs": [],
      "source": [
        "\"\"\"Check your answer by running this cell\"\"\"\n",
        "\n",
        "# Case 1\n",
        "nums = [17, 12, 31, 6]\n",
        "target = 37\n",
        "assert two_sum(nums, target) == [2, 3]\n",
        "\n",
        "# Case 2\n",
        "nums = [1, 2, 4, 6, 30, 40]\n",
        "target = 31\n",
        "assert two_sum(nums, target) == [0, 4]"
      ]
    },
    {
      "cell_type": "markdown",
      "metadata": {
        "id": "CIR6_XNi9qlY"
      },
      "source": [
        "---\n",
        "## Question 3:\n",
        "\n",
        "Given an unsorted array of integers, find the length of the longest increasing subsequence.\n",
        "\n",
        "For example, given the array `[10, 9, 2, 3, 7, 101, 18]`, the longest increasing subsequence is `[2, 3, 7, 101]`, so the length is 4.\n",
        "\n",
        "By solving this question correctly you will get 1 point."
      ]
    },
    {
      "cell_type": "code",
      "execution_count": 59,
      "metadata": {
        "deletable": false,
        "nbgrader": {
          "cell_type": "code",
          "checksum": "e4088f2e1e37ee18b5b237aa3e58654e",
          "grade": false,
          "grade_id": "missnum_ans",
          "locked": false,
          "schema_version": 3,
          "solution": true,
          "task": false
        },
        "id": "spnDCfvs9qlY"
      },
      "outputs": [],
      "source": [
        "def length_of_lis(nums):\n",
        "    \"\"\"Given an unsorted array of integers, find the length of the longest increasing subsequence.\"\"\"\n",
        "    \"\"\"Find the length of the longest increasing subsequence in an unsorted array of integers.\"\"\"\n",
        "    if not nums:\n",
        "        return 0\n",
        "    n = len(nums)\n",
        "    dp = [1] * n\n",
        "    for i in range(1, n):\n",
        "        for j in range(i):\n",
        "            if nums[i] > nums[j]:\n",
        "                dp[i] = max(dp[i], dp[j] + 1)\n",
        "    return max(dp)\n",
        "    raise NotImplementedError()"
      ]
    },
    {
      "cell_type": "code",
      "execution_count": 60,
      "metadata": {
        "id": "mvngJyNY9qlZ",
        "outputId": "201a233b-eb55-46bf-ff9f-75f5cb2a654d",
        "colab": {
          "base_uri": "https://localhost:8080/"
        }
      },
      "outputs": [
        {
          "output_type": "stream",
          "name": "stdout",
          "text": [
            "3\n"
          ]
        }
      ],
      "source": [
        "result = length_of_lis([10, 19, 1, 2, 6])\n",
        "print(result)"
      ]
    },
    {
      "cell_type": "code",
      "execution_count": 61,
      "metadata": {
        "deletable": false,
        "editable": false,
        "nbgrader": {
          "cell_type": "code",
          "checksum": "bc0c3e7bf9e17c8d27ae42520bf1dc51",
          "grade": true,
          "grade_id": "missnum_test",
          "locked": true,
          "points": 1,
          "schema_version": 3,
          "solution": false,
          "task": false
        },
        "id": "jYvEqxBd9qla"
      },
      "outputs": [],
      "source": [
        "\"\"\"Check your answer by running this cell\"\"\"\n",
        "# Case 1\n",
        "assert length_of_lis([10, 9, 2, 3, 7, 101, 18]) == 4\n",
        "\n",
        "# Case 2\n",
        "assert length_of_lis([10, 19, 1, 2, 6]) == 3\n"
      ]
    },
    {
      "cell_type": "markdown",
      "metadata": {
        "id": "2qqRnt8R9qlc"
      },
      "source": [
        "## Pandas Data Frame\n"
      ]
    },
    {
      "cell_type": "code",
      "execution_count": 56,
      "metadata": {
        "id": "jYd0Z5409qld",
        "outputId": "a5813c09-6b16-404e-b5dd-3e604274034a",
        "colab": {
          "base_uri": "https://localhost:8080/",
          "height": 260
        }
      },
      "outputs": [
        {
          "output_type": "execute_result",
          "data": {
            "text/plain": [
              "      Name  Age         City\n",
              "0    Alice   25     New York\n",
              "1      Bob   30  Los Angeles\n",
              "2  Charlie   28      Chicago\n",
              "3    David   35      Houston\n",
              "4    Haris   41      Chicago\n",
              "5     Adam   28      Chicago"
            ],
            "text/html": [
              "\n",
              "  <div id=\"df-47a4e406-207a-4b74-be2b-35d120179b74\" class=\"colab-df-container\">\n",
              "    <div>\n",
              "<style scoped>\n",
              "    .dataframe tbody tr th:only-of-type {\n",
              "        vertical-align: middle;\n",
              "    }\n",
              "\n",
              "    .dataframe tbody tr th {\n",
              "        vertical-align: top;\n",
              "    }\n",
              "\n",
              "    .dataframe thead th {\n",
              "        text-align: right;\n",
              "    }\n",
              "</style>\n",
              "<table border=\"1\" class=\"dataframe\">\n",
              "  <thead>\n",
              "    <tr style=\"text-align: right;\">\n",
              "      <th></th>\n",
              "      <th>Name</th>\n",
              "      <th>Age</th>\n",
              "      <th>City</th>\n",
              "    </tr>\n",
              "  </thead>\n",
              "  <tbody>\n",
              "    <tr>\n",
              "      <th>0</th>\n",
              "      <td>Alice</td>\n",
              "      <td>25</td>\n",
              "      <td>New York</td>\n",
              "    </tr>\n",
              "    <tr>\n",
              "      <th>1</th>\n",
              "      <td>Bob</td>\n",
              "      <td>30</td>\n",
              "      <td>Los Angeles</td>\n",
              "    </tr>\n",
              "    <tr>\n",
              "      <th>2</th>\n",
              "      <td>Charlie</td>\n",
              "      <td>28</td>\n",
              "      <td>Chicago</td>\n",
              "    </tr>\n",
              "    <tr>\n",
              "      <th>3</th>\n",
              "      <td>David</td>\n",
              "      <td>35</td>\n",
              "      <td>Houston</td>\n",
              "    </tr>\n",
              "    <tr>\n",
              "      <th>4</th>\n",
              "      <td>Haris</td>\n",
              "      <td>41</td>\n",
              "      <td>Chicago</td>\n",
              "    </tr>\n",
              "    <tr>\n",
              "      <th>5</th>\n",
              "      <td>Adam</td>\n",
              "      <td>28</td>\n",
              "      <td>Chicago</td>\n",
              "    </tr>\n",
              "  </tbody>\n",
              "</table>\n",
              "</div>\n",
              "    <div class=\"colab-df-buttons\">\n",
              "\n",
              "  <div class=\"colab-df-container\">\n",
              "    <button class=\"colab-df-convert\" onclick=\"convertToInteractive('df-47a4e406-207a-4b74-be2b-35d120179b74')\"\n",
              "            title=\"Convert this dataframe to an interactive table.\"\n",
              "            style=\"display:none;\">\n",
              "\n",
              "  <svg xmlns=\"http://www.w3.org/2000/svg\" height=\"24px\" viewBox=\"0 -960 960 960\">\n",
              "    <path d=\"M120-120v-720h720v720H120Zm60-500h600v-160H180v160Zm220 220h160v-160H400v160Zm0 220h160v-160H400v160ZM180-400h160v-160H180v160Zm440 0h160v-160H620v160ZM180-180h160v-160H180v160Zm440 0h160v-160H620v160Z\"/>\n",
              "  </svg>\n",
              "    </button>\n",
              "\n",
              "  <style>\n",
              "    .colab-df-container {\n",
              "      display:flex;\n",
              "      gap: 12px;\n",
              "    }\n",
              "\n",
              "    .colab-df-convert {\n",
              "      background-color: #E8F0FE;\n",
              "      border: none;\n",
              "      border-radius: 50%;\n",
              "      cursor: pointer;\n",
              "      display: none;\n",
              "      fill: #1967D2;\n",
              "      height: 32px;\n",
              "      padding: 0 0 0 0;\n",
              "      width: 32px;\n",
              "    }\n",
              "\n",
              "    .colab-df-convert:hover {\n",
              "      background-color: #E2EBFA;\n",
              "      box-shadow: 0px 1px 2px rgba(60, 64, 67, 0.3), 0px 1px 3px 1px rgba(60, 64, 67, 0.15);\n",
              "      fill: #174EA6;\n",
              "    }\n",
              "\n",
              "    .colab-df-buttons div {\n",
              "      margin-bottom: 4px;\n",
              "    }\n",
              "\n",
              "    [theme=dark] .colab-df-convert {\n",
              "      background-color: #3B4455;\n",
              "      fill: #D2E3FC;\n",
              "    }\n",
              "\n",
              "    [theme=dark] .colab-df-convert:hover {\n",
              "      background-color: #434B5C;\n",
              "      box-shadow: 0px 1px 3px 1px rgba(0, 0, 0, 0.15);\n",
              "      filter: drop-shadow(0px 1px 2px rgba(0, 0, 0, 0.3));\n",
              "      fill: #FFFFFF;\n",
              "    }\n",
              "  </style>\n",
              "\n",
              "    <script>\n",
              "      const buttonEl =\n",
              "        document.querySelector('#df-47a4e406-207a-4b74-be2b-35d120179b74 button.colab-df-convert');\n",
              "      buttonEl.style.display =\n",
              "        google.colab.kernel.accessAllowed ? 'block' : 'none';\n",
              "\n",
              "      async function convertToInteractive(key) {\n",
              "        const element = document.querySelector('#df-47a4e406-207a-4b74-be2b-35d120179b74');\n",
              "        const dataTable =\n",
              "          await google.colab.kernel.invokeFunction('convertToInteractive',\n",
              "                                                    [key], {});\n",
              "        if (!dataTable) return;\n",
              "\n",
              "        const docLinkHtml = 'Like what you see? Visit the ' +\n",
              "          '<a target=\"_blank\" href=https://colab.research.google.com/notebooks/data_table.ipynb>data table notebook</a>'\n",
              "          + ' to learn more about interactive tables.';\n",
              "        element.innerHTML = '';\n",
              "        dataTable['output_type'] = 'display_data';\n",
              "        await google.colab.output.renderOutput(dataTable, element);\n",
              "        const docLink = document.createElement('div');\n",
              "        docLink.innerHTML = docLinkHtml;\n",
              "        element.appendChild(docLink);\n",
              "      }\n",
              "    </script>\n",
              "  </div>\n",
              "\n",
              "\n",
              "<div id=\"df-9b40bcd3-c323-4fce-8ca7-a0fd2a9c5335\">\n",
              "  <button class=\"colab-df-quickchart\" onclick=\"quickchart('df-9b40bcd3-c323-4fce-8ca7-a0fd2a9c5335')\"\n",
              "            title=\"Suggest charts\"\n",
              "            style=\"display:none;\">\n",
              "\n",
              "<svg xmlns=\"http://www.w3.org/2000/svg\" height=\"24px\"viewBox=\"0 0 24 24\"\n",
              "     width=\"24px\">\n",
              "    <g>\n",
              "        <path d=\"M19 3H5c-1.1 0-2 .9-2 2v14c0 1.1.9 2 2 2h14c1.1 0 2-.9 2-2V5c0-1.1-.9-2-2-2zM9 17H7v-7h2v7zm4 0h-2V7h2v10zm4 0h-2v-4h2v4z\"/>\n",
              "    </g>\n",
              "</svg>\n",
              "  </button>\n",
              "\n",
              "<style>\n",
              "  .colab-df-quickchart {\n",
              "      --bg-color: #E8F0FE;\n",
              "      --fill-color: #1967D2;\n",
              "      --hover-bg-color: #E2EBFA;\n",
              "      --hover-fill-color: #174EA6;\n",
              "      --disabled-fill-color: #AAA;\n",
              "      --disabled-bg-color: #DDD;\n",
              "  }\n",
              "\n",
              "  [theme=dark] .colab-df-quickchart {\n",
              "      --bg-color: #3B4455;\n",
              "      --fill-color: #D2E3FC;\n",
              "      --hover-bg-color: #434B5C;\n",
              "      --hover-fill-color: #FFFFFF;\n",
              "      --disabled-bg-color: #3B4455;\n",
              "      --disabled-fill-color: #666;\n",
              "  }\n",
              "\n",
              "  .colab-df-quickchart {\n",
              "    background-color: var(--bg-color);\n",
              "    border: none;\n",
              "    border-radius: 50%;\n",
              "    cursor: pointer;\n",
              "    display: none;\n",
              "    fill: var(--fill-color);\n",
              "    height: 32px;\n",
              "    padding: 0;\n",
              "    width: 32px;\n",
              "  }\n",
              "\n",
              "  .colab-df-quickchart:hover {\n",
              "    background-color: var(--hover-bg-color);\n",
              "    box-shadow: 0 1px 2px rgba(60, 64, 67, 0.3), 0 1px 3px 1px rgba(60, 64, 67, 0.15);\n",
              "    fill: var(--button-hover-fill-color);\n",
              "  }\n",
              "\n",
              "  .colab-df-quickchart-complete:disabled,\n",
              "  .colab-df-quickchart-complete:disabled:hover {\n",
              "    background-color: var(--disabled-bg-color);\n",
              "    fill: var(--disabled-fill-color);\n",
              "    box-shadow: none;\n",
              "  }\n",
              "\n",
              "  .colab-df-spinner {\n",
              "    border: 2px solid var(--fill-color);\n",
              "    border-color: transparent;\n",
              "    border-bottom-color: var(--fill-color);\n",
              "    animation:\n",
              "      spin 1s steps(1) infinite;\n",
              "  }\n",
              "\n",
              "  @keyframes spin {\n",
              "    0% {\n",
              "      border-color: transparent;\n",
              "      border-bottom-color: var(--fill-color);\n",
              "      border-left-color: var(--fill-color);\n",
              "    }\n",
              "    20% {\n",
              "      border-color: transparent;\n",
              "      border-left-color: var(--fill-color);\n",
              "      border-top-color: var(--fill-color);\n",
              "    }\n",
              "    30% {\n",
              "      border-color: transparent;\n",
              "      border-left-color: var(--fill-color);\n",
              "      border-top-color: var(--fill-color);\n",
              "      border-right-color: var(--fill-color);\n",
              "    }\n",
              "    40% {\n",
              "      border-color: transparent;\n",
              "      border-right-color: var(--fill-color);\n",
              "      border-top-color: var(--fill-color);\n",
              "    }\n",
              "    60% {\n",
              "      border-color: transparent;\n",
              "      border-right-color: var(--fill-color);\n",
              "    }\n",
              "    80% {\n",
              "      border-color: transparent;\n",
              "      border-right-color: var(--fill-color);\n",
              "      border-bottom-color: var(--fill-color);\n",
              "    }\n",
              "    90% {\n",
              "      border-color: transparent;\n",
              "      border-bottom-color: var(--fill-color);\n",
              "    }\n",
              "  }\n",
              "</style>\n",
              "\n",
              "  <script>\n",
              "    async function quickchart(key) {\n",
              "      const quickchartButtonEl =\n",
              "        document.querySelector('#' + key + ' button');\n",
              "      quickchartButtonEl.disabled = true;  // To prevent multiple clicks.\n",
              "      quickchartButtonEl.classList.add('colab-df-spinner');\n",
              "      try {\n",
              "        const charts = await google.colab.kernel.invokeFunction(\n",
              "            'suggestCharts', [key], {});\n",
              "      } catch (error) {\n",
              "        console.error('Error during call to suggestCharts:', error);\n",
              "      }\n",
              "      quickchartButtonEl.classList.remove('colab-df-spinner');\n",
              "      quickchartButtonEl.classList.add('colab-df-quickchart-complete');\n",
              "    }\n",
              "    (() => {\n",
              "      let quickchartButtonEl =\n",
              "        document.querySelector('#df-9b40bcd3-c323-4fce-8ca7-a0fd2a9c5335 button');\n",
              "      quickchartButtonEl.style.display =\n",
              "        google.colab.kernel.accessAllowed ? 'block' : 'none';\n",
              "    })();\n",
              "  </script>\n",
              "</div>\n",
              "    </div>\n",
              "  </div>\n"
            ]
          },
          "metadata": {},
          "execution_count": 56
        }
      ],
      "source": [
        "from sklearn import datasets\n",
        "import pandas as pd\n",
        "# Create a sample DataFrame\n",
        "data = {\n",
        "    'Name': ['Alice', 'Bob', 'Charlie', 'David', \"Haris\", \"Adam\"],\n",
        "    'Age': [25, 30, 28, 35, 41, 28],\n",
        "    'City': ['New York', 'Los Angeles', 'Chicago', 'Houston', 'Chicago', 'Chicago']\n",
        "}\n",
        "df = pd.DataFrame(data)\n",
        "df"
      ]
    },
    {
      "cell_type": "markdown",
      "metadata": {
        "id": "k-8Z1OFV9qle"
      },
      "source": [
        "---\n",
        "## Question 4:\n",
        "\n",
        "Write a function to Find the age of the person named `Charlie` and `Charlie` is not in the Data Frame then return `0`.\n",
        "\n",
        "By solving this question correctly you will get 2 points."
      ]
    },
    {
      "cell_type": "code",
      "execution_count": 92,
      "metadata": {
        "deletable": false,
        "nbgrader": {
          "cell_type": "code",
          "checksum": "284f620b1201ba3b60020369e7bbe595",
          "grade": false,
          "grade_id": "findele_ans",
          "locked": false,
          "schema_version": 3,
          "solution": true,
          "task": false
        },
        "id": "3w5QUSfV9qle"
      },
      "outputs": [],
      "source": [
        "def find_element(dataframe, name):\n",
        "    \"\"\"Write a function to Find the age of the person named \"Charlie\" \"\"\"\n",
        "    target_row = dataframe[dataframe['Name'] == name]\n",
        "\n",
        "    if not target_row.empty:\n",
        "        target_age = target_row['Age'].values[0]\n",
        "        return target_age\n",
        "    else:\n",
        "        return 0\n",
        "    raise NotImplementedError()"
      ]
    },
    {
      "cell_type": "code",
      "execution_count": 93,
      "metadata": {
        "deletable": false,
        "editable": false,
        "nbgrader": {
          "cell_type": "code",
          "checksum": "2c07a1de91b894d2aa08755481efdf7f",
          "grade": true,
          "grade_id": "findele_test",
          "locked": true,
          "points": 2,
          "schema_version": 3,
          "solution": false,
          "task": false
        },
        "id": "_mzR_p6m9qlf"
      },
      "outputs": [],
      "source": [
        "assert find_element(df, 'Bob') == 30\n",
        "assert find_element(df, 'Charlie') == 28\n",
        "assert find_element(df, 'CE880') == 0"
      ]
    },
    {
      "cell_type": "markdown",
      "metadata": {
        "id": "thssP7809qlf"
      },
      "source": [
        "---\n",
        "## Question 5:\n",
        "\n",
        "\n",
        "Write a function to calculate the `mean` and `standard deviation` of `Age`. `Hint` Create a list and append value to it and return the output.\n",
        "\n",
        "By solving this question correctly you will get 1 point."
      ]
    },
    {
      "cell_type": "code",
      "execution_count": null,
      "metadata": {
        "deletable": false,
        "nbgrader": {
          "cell_type": "code",
          "checksum": "18aa564be6881c41bbe0271904b270ce",
          "grade": false,
          "grade_id": "stats_ans",
          "locked": false,
          "schema_version": 3,
          "solution": true,
          "task": false
        },
        "id": "4hl5Wt0t9qlg"
      },
      "outputs": [],
      "source": [
        "def stats(X):\n",
        "    \"\"\"Write a functon to calculate mean and standard deviation of Age from the\n",
        "    above dataframe df and round the values to 2 decimals points .\"\"\"\n",
        "   import numpy as np\n",
        "    raise NotImplementedError()"
      ]
    },
    {
      "cell_type": "code",
      "execution_count": null,
      "metadata": {
        "deletable": false,
        "editable": false,
        "nbgrader": {
          "cell_type": "code",
          "checksum": "c058e57acc699e6fc207f182824b676a",
          "grade": true,
          "grade_id": "stats_test",
          "locked": true,
          "points": 1,
          "schema_version": 3,
          "solution": false,
          "task": false
        },
        "id": "RUFVdWr29qlh"
      },
      "outputs": [],
      "source": [
        "\"\"\"Check your output\"\"\"\n",
        "# Test case\n",
        "x = stats(df)\n",
        "y= [31.16, 5.84]\n",
        "np.testing.assert_allclose(x, y, rtol=0.05, atol=0)"
      ]
    }
  ],
  "metadata": {
    "kernelspec": {
      "display_name": "Python 3",
      "language": "python",
      "name": "python3"
    },
    "language_info": {
      "codemirror_mode": {
        "name": "ipython",
        "version": 3
      },
      "file_extension": ".py",
      "mimetype": "text/x-python",
      "name": "python",
      "nbconvert_exporter": "python",
      "pygments_lexer": "ipython3",
      "version": "3.7.10"
    },
    "colab": {
      "provenance": [],
      "include_colab_link": true
    }
  },
  "nbformat": 4,
  "nbformat_minor": 0
}