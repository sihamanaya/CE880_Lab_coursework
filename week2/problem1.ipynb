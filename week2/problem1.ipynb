{
  "cells": [
    {
      "cell_type": "markdown",
      "metadata": {
        "id": "view-in-github",
        "colab_type": "text"
      },
      "source": [
        "<a href=\"https://colab.research.google.com/github/sihamanaya/CE880_Lab_coursework/blob/main/week2/problem1.ipynb\" target=\"_parent\"><img src=\"https://colab.research.google.com/assets/colab-badge.svg\" alt=\"Open In Colab\"/></a>"
      ]
    },
    {
      "cell_type": "markdown",
      "metadata": {
        "id": "R5Y1F-zZ9qlI"
      },
      "source": [
        "Before you turn this problem in, make sure everything runs as expected. First, **restart the kernel** (in the menubar, select Kernel$\\rightarrow$Restart) and then **run all cells** (in the menubar, select Cell$\\rightarrow$Run All).\n",
        "\n",
        "Make sure you fill in any place that says `YOUR CODE HERE` or \"YOUR ANSWER HERE\", as well as your name and collaborators below:"
      ]
    },
    {
      "cell_type": "code",
      "execution_count": null,
      "metadata": {
        "id": "_Bp9xhys9qlM"
      },
      "outputs": [],
      "source": [
        "NAME = \"\"\n",
        "COLLABORATORS = \"\""
      ]
    },
    {
      "cell_type": "markdown",
      "metadata": {
        "id": "DIesiC-O9qlO"
      },
      "source": [
        "---"
      ]
    },
    {
      "cell_type": "markdown",
      "metadata": {
        "id": "R7PHBVR99qlP"
      },
      "source": [
        "---\n",
        "# Welcome to CE880\n",
        "### This is your week-2 : Problem 1 notebook\n",
        "### Spring Term 2023-24\n",
        "#### Prepared by Dr Haider Raza\n",
        "\n",
        "For this problem set, we'll be using the Jupyter notebook and please upload this notebook to [Google Colab](https://colab.research.google.com/).\n"
      ]
    },
    {
      "cell_type": "markdown",
      "metadata": {
        "id": "y3X12av99qlQ"
      },
      "source": [
        "---\n",
        "## Question 1:\n",
        "\n",
        "Write a Python function that takes a list of numbers and returns a list of their sigmoid values.\n",
        "Hint: round the value to two decimal points.\n",
        "![A](https://miro.medium.com/v2/resize:fit:1033/0*D5do3xhv5ulF50w2.png \"Sigmoid\")\n",
        "By solving this question correctly you will get 1 point.\n"
      ]
    },
    {
      "cell_type": "code",
      "execution_count": null,
      "metadata": {
        "deletable": false,
        "nbgrader": {
          "cell_type": "code",
          "checksum": "82e2aeb530a75a846bc5bd9c91893ac0",
          "grade": false,
          "grade_id": "cosine_ans",
          "locked": false,
          "schema_version": 3,
          "solution": true
        },
        "id": "ex7mlYRa9qlQ"
      },
      "outputs": [],
      "source": [
        "import math\n",
        "def calculate_sigmoid(numbers):\n",
        "    \"\"\"Write a Python function that takes a list of numbers and returns a list of their sigmoid values.\"\"\"\n",
        "    # YOUR CODE HERE\n",
        "    raise NotImplementedError()"
      ]
    },
    {
      "cell_type": "code",
      "execution_count": null,
      "metadata": {
        "id": "gvRRl5Is9qlR"
      },
      "outputs": [],
      "source": [
        "numbers = [0, 1, 2, -3, 4]\n",
        "result = calculate_sigmoid(numbers)\n",
        "print(result)"
      ]
    },
    {
      "cell_type": "code",
      "execution_count": null,
      "metadata": {
        "deletable": false,
        "editable": false,
        "nbgrader": {
          "cell_type": "code",
          "checksum": "e7770674290e2d4a76e2d797ded22120",
          "grade": true,
          "grade_id": "cosine_test",
          "locked": false,
          "points": 1,
          "schema_version": 3,
          "solution": false
        },
        "id": "Vtz5VB2K9qlS"
      },
      "outputs": [],
      "source": [
        "\"\"\"Check your answer by running this cell\"\"\"\n",
        "\n",
        "# Test case 1\n",
        "my = [0, math.pi / 2, math.pi, 100, 200, 230]\n",
        "assert calculate_sigmoid(my) == [0.5, 0.83, 0.96, 1.0, 1.0, 1.0]\n",
        "\n",
        "# Test case 2\n",
        "my = [0, 2, 4, 6, -30, 400]\n",
        "assert calculate_sigmoid(my) == [0.5, 0.88, 0.98, 1.0, 0.0, 1.0]"
      ]
    },
    {
      "cell_type": "markdown",
      "metadata": {
        "id": "VIiFSmE-9qlV"
      },
      "source": [
        "---\n",
        "\n",
        "## Question 2:\n",
        "\n",
        "Given an array of integers, find two numbers such that they add up to a specific target sum. Return the indices of the two numbers. For example, given the array `[2, 7, 11, 15]` and the target `9`, the function should return `[0, 1]` since `2 + 7 = 9`.\n",
        "\n",
        "By solving this question correctly you will get 1 point."
      ]
    },
    {
      "cell_type": "code",
      "execution_count": null,
      "metadata": {
        "deletable": false,
        "nbgrader": {
          "cell_type": "code",
          "checksum": "d1ee6e06bb2ce6104d67f4aadaccfdae",
          "grade": false,
          "grade_id": "twosum_ans",
          "locked": false,
          "schema_version": 3,
          "solution": true
        },
        "id": "10hQhnIx9qlW"
      },
      "outputs": [],
      "source": [
        "def two_sum(nums, target):\n",
        "    \"\"\"Given an array of integers, find two numbers such that they add\n",
        "    up to a specific target sum. Return the indices of the two numbers.\"\"\"\n",
        "    # YOUR CODE HERE\n",
        "    raise NotImplementedError()"
      ]
    },
    {
      "cell_type": "code",
      "execution_count": null,
      "metadata": {
        "id": "6QeNUqvU9qlW"
      },
      "outputs": [],
      "source": [
        "# Example for students\n",
        "nums = [2, 7, 11, 15]\n",
        "target = 9\n",
        "result = two_sum(nums, target)\n",
        "print(result)"
      ]
    },
    {
      "cell_type": "code",
      "execution_count": null,
      "metadata": {
        "deletable": false,
        "editable": false,
        "nbgrader": {
          "cell_type": "code",
          "checksum": "f4ddff07e93a2d08f1421f01ef9df298",
          "grade": true,
          "grade_id": "twosum_test",
          "locked": false,
          "points": 1,
          "schema_version": 3,
          "solution": false
        },
        "id": "ejYiM74J9qlX"
      },
      "outputs": [],
      "source": [
        "\"\"\"Check your answer by running this cell\"\"\"\n",
        "\n",
        "# Case 1\n",
        "nums = [17, 12, 31, 6]\n",
        "target = 37\n",
        "assert two_sum(nums, target) == [2, 3]\n",
        "\n",
        "# Case 2\n",
        "nums = [1, 2, 4, 6, 30, 40]\n",
        "target = 31\n",
        "assert two_sum(nums, target) == [0, 4]"
      ]
    },
    {
      "cell_type": "markdown",
      "metadata": {
        "id": "CIR6_XNi9qlY"
      },
      "source": [
        "---\n",
        "## Question 3:\n",
        "\n",
        "Given an unsorted array of integers, find the length of the longest increasing subsequence.\n",
        "\n",
        "For example, given the array `[10, 9, 2, 5, 3, 7, 101, 18]`, the longest increasing subsequence is `[2, 3, 7, 101]`, so the length is 4.\n",
        "\n",
        "By solving this question correctly you will get 1 point."
      ]
    },
    {
      "cell_type": "code",
      "execution_count": null,
      "metadata": {
        "deletable": false,
        "nbgrader": {
          "cell_type": "code",
          "checksum": "e4088f2e1e37ee18b5b237aa3e58654e",
          "grade": false,
          "grade_id": "missnum_ans",
          "locked": false,
          "schema_version": 3,
          "solution": true,
          "task": false
        },
        "id": "spnDCfvs9qlY"
      },
      "outputs": [],
      "source": [
        "def length_of_lis(nums):\n",
        "    \"\"\"Given an unsorted array of integers, find the length of the longest increasing subsequence.\"\"\"\n",
        "    # YOUR CODE HERE\n",
        "    raise NotImplementedError()"
      ]
    },
    {
      "cell_type": "code",
      "execution_count": null,
      "metadata": {
        "id": "mvngJyNY9qlZ"
      },
      "outputs": [],
      "source": [
        "result = length_of_lis([10, 19, 1, 2, 6])\n",
        "print(result)"
      ]
    },
    {
      "cell_type": "code",
      "execution_count": null,
      "metadata": {
        "deletable": false,
        "editable": false,
        "nbgrader": {
          "cell_type": "code",
          "checksum": "bc0c3e7bf9e17c8d27ae42520bf1dc51",
          "grade": true,
          "grade_id": "missnum_test",
          "locked": true,
          "points": 1,
          "schema_version": 3,
          "solution": false,
          "task": false
        },
        "id": "jYvEqxBd9qla"
      },
      "outputs": [],
      "source": [
        "\"\"\"Check your answer by running this cell\"\"\"\n",
        "# Case 1\n",
        "assert length_of_lis([10, 9, 2, 5, 3, 7, 101, 18]) == 4\n",
        "\n",
        "# Case 2\n",
        "assert length_of_lis([10, 19, 1, 2, 6]) == 3\n"
      ]
    },
    {
      "cell_type": "markdown",
      "metadata": {
        "id": "2qqRnt8R9qlc"
      },
      "source": [
        "## Pandas Data Frame\n"
      ]
    },
    {
      "cell_type": "code",
      "execution_count": null,
      "metadata": {
        "id": "jYd0Z5409qld"
      },
      "outputs": [],
      "source": [
        "from sklearn import datasets\n",
        "import pandas as pd\n",
        "# Create a sample DataFrame\n",
        "data = {\n",
        "    'Name': ['Alice', 'Bob', 'Charlie', 'David', \"Haris\", \"Adam\"],\n",
        "    'Age': [25, 30, 28, 35, 41, 28],\n",
        "    'City': ['New York', 'Los Angeles', 'Chicago', 'Houston', 'Chicago', 'Chicago']\n",
        "}\n",
        "df = pd.DataFrame(data)\n",
        "df"
      ]
    },
    {
      "cell_type": "markdown",
      "metadata": {
        "id": "k-8Z1OFV9qle"
      },
      "source": [
        "---\n",
        "## Question 4:\n",
        "\n",
        "Write a function to Find the age of the person named `Charlie` and `Charlie` is not in the Data Frame then return `0`.\n",
        "\n",
        "By solving this question correctly you will get 2 points."
      ]
    },
    {
      "cell_type": "code",
      "execution_count": null,
      "metadata": {
        "deletable": false,
        "nbgrader": {
          "cell_type": "code",
          "checksum": "284f620b1201ba3b60020369e7bbe595",
          "grade": false,
          "grade_id": "findele_ans",
          "locked": false,
          "schema_version": 3,
          "solution": true,
          "task": false
        },
        "id": "3w5QUSfV9qle"
      },
      "outputs": [],
      "source": [
        "def find_element(dataframe, name):\n",
        "    \"\"\"Write a function to Find the age of the person named \"Charlie\" \"\"\"\n",
        "    # YOUR CODE HERE\n",
        "    raise NotImplementedError()"
      ]
    },
    {
      "cell_type": "code",
      "execution_count": null,
      "metadata": {
        "deletable": false,
        "editable": false,
        "nbgrader": {
          "cell_type": "code",
          "checksum": "2c07a1de91b894d2aa08755481efdf7f",
          "grade": true,
          "grade_id": "findele_test",
          "locked": true,
          "points": 2,
          "schema_version": 3,
          "solution": false,
          "task": false
        },
        "id": "_mzR_p6m9qlf"
      },
      "outputs": [],
      "source": [
        "assert find_element(df, 'Bob') == 30\n",
        "assert find_element(df, 'Charlie') == 28\n",
        "assert find_element(df, 'CE880') == 0"
      ]
    },
    {
      "cell_type": "markdown",
      "metadata": {
        "id": "thssP7809qlf"
      },
      "source": [
        "---\n",
        "## Question 5:\n",
        "\n",
        "\n",
        "Write a function to calculate the `mean` and `standard deviation` of `Age`. `Hint` Create a list and append value to it and return the output.\n",
        "\n",
        "By solving this question correctly you will get 1 point."
      ]
    },
    {
      "cell_type": "code",
      "execution_count": null,
      "metadata": {
        "id": "52svLzJZ9qlg"
      },
      "outputs": [],
      "source": []
    },
    {
      "cell_type": "code",
      "execution_count": null,
      "metadata": {
        "deletable": false,
        "nbgrader": {
          "cell_type": "code",
          "checksum": "18aa564be6881c41bbe0271904b270ce",
          "grade": false,
          "grade_id": "stats_ans",
          "locked": false,
          "schema_version": 3,
          "solution": true,
          "task": false
        },
        "id": "4hl5Wt0t9qlg"
      },
      "outputs": [],
      "source": [
        "def stats(X):\n",
        "    \"\"\"Write a functon to calculate mean and standard deviation of Age from the\n",
        "    above dataframe df and round the values to 2 decimals points .\"\"\"\n",
        "    # YOUR CODE HERE\n",
        "    raise NotImplementedError()"
      ]
    },
    {
      "cell_type": "code",
      "execution_count": null,
      "metadata": {
        "deletable": false,
        "editable": false,
        "nbgrader": {
          "cell_type": "code",
          "checksum": "c058e57acc699e6fc207f182824b676a",
          "grade": true,
          "grade_id": "stats_test",
          "locked": true,
          "points": 1,
          "schema_version": 3,
          "solution": false,
          "task": false
        },
        "id": "RUFVdWr29qlh"
      },
      "outputs": [],
      "source": [
        "\"\"\"Check your output\"\"\"\n",
        "# Test case\n",
        "x = stats(df)\n",
        "y= [31.16, 5.84]\n",
        "np.testing.assert_allclose(x, y, rtol=0.05, atol=0)"
      ]
    }
  ],
  "metadata": {
    "kernelspec": {
      "display_name": "Python 3",
      "language": "python",
      "name": "python3"
    },
    "language_info": {
      "codemirror_mode": {
        "name": "ipython",
        "version": 3
      },
      "file_extension": ".py",
      "mimetype": "text/x-python",
      "name": "python",
      "nbconvert_exporter": "python",
      "pygments_lexer": "ipython3",
      "version": "3.7.10"
    },
    "colab": {
      "provenance": [],
      "include_colab_link": true
    }
  },
  "nbformat": 4,
  "nbformat_minor": 0
}