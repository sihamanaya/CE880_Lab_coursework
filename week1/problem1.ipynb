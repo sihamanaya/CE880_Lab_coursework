{
  "cells": [
    {
      "cell_type": "markdown",
      "metadata": {
        "id": "view-in-github",
        "colab_type": "text"
      },
      "source": [
        "<a href=\"https://colab.research.google.com/github/sihamanaya/CE880_Lab_coursework/blob/main/week1/problem1.ipynb\" target=\"_parent\"><img src=\"https://colab.research.google.com/assets/colab-badge.svg\" alt=\"Open In Colab\"/></a>"
      ]
    },
    {
      "cell_type": "markdown",
      "metadata": {
        "id": "-gtALUSSdzHe"
      },
      "source": [
        "Before you turn this problem in, make sure everything runs as expected. First, **restart the kernel** (in the menubar, select Kernel$\\rightarrow$Restart) and then **run all cells** (in the menubar, select Cell$\\rightarrow$Run All).\n",
        "\n",
        "Make sure you fill in any place that says `YOUR CODE HERE` or \"YOUR ANSWER HERE\", as well as your name and collaborators below:"
      ]
    },
    {
      "cell_type": "code",
      "execution_count": null,
      "metadata": {
        "id": "lczZQDZcdzHi"
      },
      "outputs": [],
      "source": [
        "NAME = \"SIHAM ANAYA\"\n",
        "COLLABORATORS = \"\""
      ]
    },
    {
      "cell_type": "markdown",
      "metadata": {
        "id": "EAV_4t7JdzHk"
      },
      "source": [
        "---"
      ]
    },
    {
      "cell_type": "markdown",
      "metadata": {
        "id": "te0Kpu8QdzHl"
      },
      "source": [
        "---\n",
        "# Welcome to CE880\n",
        "### This is your week-1 : Problem 1 notebook\n",
        "\n",
        "For this problem set, we'll be using the Jupyter notebook and please upload this notebook to [Google Colab](https://colab.research.google.com/).\n"
      ]
    },
    {
      "cell_type": "markdown",
      "metadata": {
        "id": "NnyV3-WTdzHm"
      },
      "source": [
        "---\n",
        "## Question 1:\n",
        "\n",
        "Write a Python function to calculate simple interest. The formula for calculating simple interest is:\n",
        "\n",
        "`Simple Interest (SI) = (Principal * Rate * Time) / 100`\n",
        "\n",
        "#### Parameters:\n",
        "* principal (float): The principal amount (initial amount of money).\n",
        "* rate (float): The rate of interest per time period.\n",
        "* time (float): The time for which the money is borrowed or invested.\n",
        "\n"
      ]
    },
    {
      "cell_type": "code",
      "execution_count": null,
      "metadata": {
        "deletable": false,
        "nbgrader": {
          "cell_type": "code",
          "checksum": "87a59112e1535d2b0c417316e90ca4b3",
          "grade": false,
          "grade_id": "myPythagorean_ans",
          "locked": false,
          "schema_version": 3,
          "solution": true
        },
        "id": "m4Sv9NvDdzHm"
      },
      "outputs": [],
      "source": [
        "import math\n",
        "def calculate_simple_interest(principal, rate, time):\n",
        "    \"\"\"Create a function that takes three parameters (principal, rate, time)\n",
        "    and returns the calculated simple interest.\"\"\"\n",
        "    # YOUR CODE HERE\n",
        "    raise NotImplementedError()"
      ]
    },
    {
      "cell_type": "code",
      "execution_count": null,
      "metadata": {
        "id": "KcqW03AhdzHo"
      },
      "outputs": [],
      "source": [
        "calculate_simple_interest(1000, 5, 3)"
      ]
    },
    {
      "cell_type": "code",
      "execution_count": null,
      "metadata": {
        "deletable": false,
        "editable": false,
        "nbgrader": {
          "cell_type": "code",
          "checksum": "aedb65e81e27514ad6834c0546eef7f8",
          "grade": true,
          "grade_id": "myPythagorean_test",
          "locked": false,
          "points": 1,
          "schema_version": 3,
          "solution": false
        },
        "id": "emJYRFP4dzHp"
      },
      "outputs": [],
      "source": [
        "\"\"\"Check that squares returns the correct output for several inputs\"\"\"\n",
        "assert calculate_simple_interest(1000, 2.22, 3) == 66.6\n",
        "assert calculate_simple_interest(5000, 0, 3) == 0\n",
        "assert calculate_simple_interest(5000, 5, 3) == 750"
      ]
    },
    {
      "cell_type": "markdown",
      "metadata": {
        "id": "8hfXCUrfdzHp"
      },
      "source": [
        "---\n",
        "\n",
        "## Question 2:\n",
        "\n",
        "Write a Python function to calculate the volume of a cylinder. The formula for calculating the volume of a cylinder is:\n",
        "\n",
        "`Volume = π * radius^2 * height`\n",
        "\n",
        "Hint: For simplicity, you can use the value of π as 3.14159.\n",
        "\n",
        "\n",
        "#### Parameters:\n",
        "* radius (float): The radius of the cylinder's base.\n",
        "* height (float): The height of the cylinder."
      ]
    },
    {
      "cell_type": "code",
      "execution_count": null,
      "metadata": {
        "deletable": false,
        "nbgrader": {
          "cell_type": "code",
          "checksum": "6885c60c01db70341c220ceae4bd1414",
          "grade": false,
          "grade_id": "areaofTrap_ans",
          "locked": false,
          "schema_version": 3,
          "solution": true
        },
        "id": "aQ_zERxRdzHq"
      },
      "outputs": [],
      "source": [
        "def calculate_cylinder_volume(radius, height):\n",
        "    \"\"\"Write a Python function to calculate the volume of a cylinder.\"\"\"\n",
        "    # YOUR CODE HERE\n",
        "    raise NotImplementedError()"
      ]
    },
    {
      "cell_type": "code",
      "execution_count": null,
      "metadata": {
        "id": "quSml4DJdzHs"
      },
      "outputs": [],
      "source": [
        "calculate_cylinder_volume(10, 4)"
      ]
    },
    {
      "cell_type": "code",
      "execution_count": null,
      "metadata": {
        "deletable": false,
        "editable": false,
        "nbgrader": {
          "cell_type": "code",
          "checksum": "f5e989aa1b4c584947cd9dcac44efcc0",
          "grade": true,
          "grade_id": "areaofTrap_test",
          "locked": false,
          "points": 1,
          "schema_version": 3,
          "solution": false
        },
        "id": "FwMswuuqdzHt"
      },
      "outputs": [],
      "source": [
        "\"\"\"Checkthe correct answer for various inputs.\"\"\"\n",
        "assert calculate_cylinder_volume(5, 10) == 785.3975\n",
        "assert calculate_cylinder_volume(15, 8) == 5654.862\n",
        "assert calculate_cylinder_volume(20, 3) == 3769.908"
      ]
    },
    {
      "cell_type": "markdown",
      "metadata": {
        "id": "eNIXUP7edzHw"
      },
      "source": [
        "---\n",
        "## Question 3:\n",
        "\n",
        " Write a Python program to reverse a string. Example: Sample String: `1234xyz` Expected Output: `zyx4321`"
      ]
    },
    {
      "cell_type": "code",
      "execution_count": null,
      "metadata": {
        "deletable": false,
        "nbgrader": {
          "cell_type": "code",
          "checksum": "98cb7a38e7c264c61d0ff0332d879772",
          "grade": false,
          "grade_id": "reversestring_ans",
          "locked": false,
          "schema_version": 3,
          "solution": true,
          "task": false
        },
        "id": "D5M0ByTWdzHy"
      },
      "outputs": [],
      "source": [
        "def reverse_string(str1):\n",
        "    \"\"\"Write your code here to reverse the string\"\"\"\n",
        "\n",
        "    # YOUR CODE HERE\n",
        "    raise NotImplementedError()"
      ]
    },
    {
      "cell_type": "code",
      "execution_count": null,
      "metadata": {
        "id": "83nrqfcIdzHz"
      },
      "outputs": [],
      "source": [
        "reverse_string('ChatGPT')"
      ]
    },
    {
      "cell_type": "code",
      "execution_count": null,
      "metadata": {
        "deletable": false,
        "editable": false,
        "nbgrader": {
          "cell_type": "code",
          "checksum": "13cc3e56b0754d7b6c57e0c91a267c8c",
          "grade": true,
          "grade_id": "reversestring_test",
          "locked": true,
          "points": 1,
          "schema_version": 3,
          "solution": false,
          "task": false
        },
        "id": "jCEClyutdzH1"
      },
      "outputs": [],
      "source": [
        "\"\"\"Check that areaofTrap returns the correct answer for various inputs.\"\"\"\n",
        "assert reverse_string('Humanitarian') == 'nairatinamuH'\n",
        "assert reverse_string('ChatGPT') == 'TPGtahC'\n",
        "assert reverse_string('Data Science') == 'ecneicS ataD'\n",
        "assert reverse_string('CE880') == '088EC'"
      ]
    },
    {
      "cell_type": "markdown",
      "metadata": {
        "id": "9FXKi4IIdzH2"
      },
      "source": [
        "## Question 4:\n",
        "Write a Python program to print the odd numbers from a given list and in ascending order.\n",
        "\n",
        "Sample List : `[1, 2, 3, 4, 5, 6, 7, 8, 9]` Expected Result : `[1, 3, 5, 7, 9]`"
      ]
    },
    {
      "cell_type": "code",
      "execution_count": null,
      "metadata": {
        "deletable": false,
        "nbgrader": {
          "cell_type": "code",
          "checksum": "fe429958636b60d9eb8395e0a710f02f",
          "grade": false,
          "grade_id": "even_num_ans",
          "locked": false,
          "schema_version": 3,
          "solution": true,
          "task": false
        },
        "id": "C_sZ51f7dzH2"
      },
      "outputs": [],
      "source": [
        "import numpy as np\n",
        "def odd_num(lst_1):\n",
        "    \"\"\"Write a Python program to print the odd numbers from a given list and in ascending order.\"\"\"\n",
        "    # YOUR CODE HERE\n",
        "    raise NotImplementedError()"
      ]
    },
    {
      "cell_type": "code",
      "execution_count": null,
      "metadata": {
        "id": "cYqMOeo7dzH3"
      },
      "outputs": [],
      "source": [
        "odd_num([2, 3, 14, 17, 8, 19, 11, 14])"
      ]
    },
    {
      "cell_type": "code",
      "execution_count": null,
      "metadata": {
        "deletable": false,
        "editable": false,
        "nbgrader": {
          "cell_type": "code",
          "checksum": "67fe5215c4ef4d5ef23374a0ac689eb8",
          "grade": true,
          "grade_id": "odd_num_test",
          "locked": true,
          "points": 1,
          "schema_version": 3,
          "solution": false,
          "task": false
        },
        "id": "-ErTQCaFdzH4"
      },
      "outputs": [],
      "source": [
        "\"\"\"Check that odd_num returns the correct answer for various inputs.\"\"\"\n",
        "assert odd_num([1, 2, 3, 4, 6, 7, 8, 9]) == [1, 3, 7, 9]\n",
        "assert odd_num([2, 3, 4, 7, 8, 9, 11, 14]) == [3, 7, 9, 11]\n",
        "assert odd_num([2, 3, 14, 17, 8, 19, 11, 14]) == [3, 11, 17, 19]"
      ]
    },
    {
      "cell_type": "markdown",
      "metadata": {
        "id": "1gkD52GodzH5"
      },
      "source": [
        "## Question 5:\n",
        "Write a Python function to create and print a list where the values are cube of numbers between `1` and `n`, where `n` is user defined number: Example `cube_values(4) == [1, 8, 27, 64]`"
      ]
    },
    {
      "cell_type": "code",
      "execution_count": null,
      "metadata": {
        "deletable": false,
        "nbgrader": {
          "cell_type": "code",
          "checksum": "7cb495f5a8b8fe53614cbf5ddcaacf90",
          "grade": false,
          "grade_id": "sqr_values_ans",
          "locked": false,
          "schema_version": 3,
          "solution": true,
          "task": false
        },
        "id": "i9sq2K4cdzH7"
      },
      "outputs": [],
      "source": [
        "def cube_values(n):\n",
        "    \"\"\"Write a Python program to print the cube of numbers between 1 and `n`\"\"\"\n",
        "\n",
        "    # YOUR CODE HERE\n",
        "    raise NotImplementedError()"
      ]
    },
    {
      "cell_type": "code",
      "execution_count": null,
      "metadata": {
        "id": "344zHfx6dzH8"
      },
      "outputs": [],
      "source": [
        "cube_values(9)"
      ]
    },
    {
      "cell_type": "code",
      "execution_count": null,
      "metadata": {
        "deletable": false,
        "editable": false,
        "nbgrader": {
          "cell_type": "code",
          "checksum": "3b2fc7a12df60f66f039d427cc797b1b",
          "grade": true,
          "grade_id": "sqr_values_test",
          "locked": true,
          "points": 1,
          "schema_version": 3,
          "solution": false,
          "task": false
        },
        "id": "99y8r-3XdzH8"
      },
      "outputs": [],
      "source": [
        "\"\"\"Check that cube_values returns the correct answer for various inputs.\"\"\"\n",
        "assert cube_values(4) == [1, 8, 27, 64]\n",
        "assert cube_values(8) == [1, 8, 27, 64, 125, 216, 343, 512]\n",
        "assert cube_values(9) == [1, 8, 27, 64, 125, 216, 343, 512, 729]"
      ]
    },
    {
      "cell_type": "markdown",
      "metadata": {
        "id": "9Vzg8qr5dzH9"
      },
      "source": [
        "## Question 6:\n",
        "\n",
        "Create a function that takes a string and counts the total number of capital letters in that string.\n",
        "\n"
      ]
    },
    {
      "cell_type": "code",
      "execution_count": null,
      "metadata": {
        "deletable": false,
        "nbgrader": {
          "cell_type": "code",
          "checksum": "33d39887c0340fd72d1252b89745ca8d",
          "grade": false,
          "grade_id": "comb_ans",
          "locked": false,
          "schema_version": 3,
          "solution": true,
          "task": false
        },
        "id": "rY-HiAMCdzH9"
      },
      "outputs": [],
      "source": [
        "def count_capital_letters(input_string):\n",
        "    \"\"\"Write a Python function to count the number of capital letters in a given string.\"\"\"\n",
        "    # YOUR CODE HERE\n",
        "    raise NotImplementedError()"
      ]
    },
    {
      "cell_type": "code",
      "execution_count": null,
      "metadata": {
        "id": "SEqRg-1OdzH-"
      },
      "outputs": [],
      "source": [
        "count_capital_letters('CE880!')"
      ]
    },
    {
      "cell_type": "code",
      "execution_count": null,
      "metadata": {
        "deletable": false,
        "editable": false,
        "nbgrader": {
          "cell_type": "code",
          "checksum": "71c0a59e2ca4afc41553efb1cc070d3a",
          "grade": true,
          "grade_id": "comb_test",
          "locked": true,
          "points": 1,
          "schema_version": 3,
          "solution": false,
          "task": false
        },
        "id": "38LP7vZhdzH_"
      },
      "outputs": [],
      "source": [
        "assert count_capital_letters('Essex University') == 2\n",
        "assert count_capital_letters('Camulodunum the Ancient Roman') == 3\n",
        "assert count_capital_letters('cHgYjHkYhUgYj12') == 6"
      ]
    }
  ],
  "metadata": {
    "kernelspec": {
      "display_name": "Python 3",
      "language": "python",
      "name": "python3"
    },
    "language_info": {
      "codemirror_mode": {
        "name": "ipython",
        "version": 3
      },
      "file_extension": ".py",
      "mimetype": "text/x-python",
      "name": "python",
      "nbconvert_exporter": "python",
      "pygments_lexer": "ipython3",
      "version": "3.7.11"
    },
    "colab": {
      "provenance": [],
      "include_colab_link": true
    }
  },
  "nbformat": 4,
  "nbformat_minor": 0
}