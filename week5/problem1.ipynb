{
  "cells": [
    {
      "cell_type": "markdown",
      "metadata": {
        "id": "view-in-github",
        "colab_type": "text"
      },
      "source": [
        "<a href=\"https://colab.research.google.com/github/sihamanaya/CE880_Lab_coursework/blob/main/week5/problem1.ipynb\" target=\"_parent\"><img src=\"https://colab.research.google.com/assets/colab-badge.svg\" alt=\"Open In Colab\"/></a>"
      ]
    },
    {
      "cell_type": "markdown",
      "metadata": {
        "id": "CfWQFyvBe5Vq"
      },
      "source": [
        "Before you turn this problem in, make sure everything runs as expected. First, **restart the kernel** (in the menubar, select Kernel$\\rightarrow$Restart) and then **run all cells** (in the menubar, select Cell$\\rightarrow$Run All).\n",
        "\n",
        "Make sure you fill in any place that says `YOUR CODE HERE` or \"YOUR ANSWER HERE\", as well as your name and collaborators below:"
      ]
    },
    {
      "cell_type": "code",
      "execution_count": null,
      "metadata": {
        "id": "gmG6GDA2e5Vt"
      },
      "outputs": [],
      "source": [
        "NAME = \"\"\n",
        "COLLABORATORS = \"\""
      ]
    },
    {
      "cell_type": "markdown",
      "metadata": {
        "id": "v-3X1li6e5Vv"
      },
      "source": [
        "---"
      ]
    },
    {
      "cell_type": "markdown",
      "metadata": {
        "id": "BLeKMKY7e5Vw"
      },
      "source": [
        "---\n",
        "# Welcome to CE880\n",
        "### This is your week-5 : Problem notebook\n",
        "\n",
        "For this problem set, we'll be using the Jupyter notebook and please upload this notebook to [Google Colab](https://colab.research.google.com/)."
      ]
    },
    {
      "cell_type": "markdown",
      "metadata": {
        "id": "9GpRH0ice5Vx"
      },
      "source": [
        "---\n",
        "## Question 1:\n",
        "Write a function to compute the `softmax` function for an input array `z`, representing the logits of a classification problem.\n",
        "\n",
        "**Parameters**:\n",
        " `z` (`numpy.ndarray`): Input array of shape `(n_samples, n_classes)`.\n",
        "    \n",
        "**Returns**:\n",
        "softmax_output `(numpy.ndarray)`: Output array after applying softmax along axis 1.\n",
        "\n",
        "\n",
        "\n",
        "<img src=\"https://cdn.sanity.io/images/vr8gru94/production/582a6c51701bb584c1cdd6662cc376b9cadb7160-2048x1152.png\" alt=\"drawing\" style=\"width:400px;\"/>"
      ]
    },
    {
      "cell_type": "code",
      "execution_count": null,
      "metadata": {
        "deletable": false,
        "nbgrader": {
          "cell_type": "code",
          "checksum": "63865f96521c150dcff42e8e7b9d8a1a",
          "grade": false,
          "grade_id": "my-softmax-ans",
          "locked": false,
          "schema_version": 3,
          "solution": true,
          "task": false
        },
        "id": "SVe8l0sDe5Vx"
      },
      "outputs": [],
      "source": [
        "import numpy as np\n",
        "\n",
        "def softmax(z):\n",
        "    \"\"\"\n",
        "    Compute the softmax function for input array z.\n",
        "\n",
        "    Parameters:\n",
        "    - z (numpy.ndarray): Input array of shape (n_samples, n_classes).\n",
        "\n",
        "    Returns:\n",
        "    - softmax_output (numpy.ndarray): Output array after applying softmax along axis 1.\n",
        "    \"\"\"\n",
        "    # YOUR CODE HERE\n",
        "    raise NotImplementedError()"
      ]
    },
    {
      "cell_type": "code",
      "execution_count": null,
      "metadata": {
        "deletable": false,
        "editable": false,
        "nbgrader": {
          "cell_type": "code",
          "checksum": "8f84e46a3c0efe11fc99a6ae9f44b5f5",
          "grade": true,
          "grade_id": "my_regression_test",
          "locked": true,
          "points": 3,
          "schema_version": 3,
          "solution": false,
          "task": false
        },
        "id": "NIxpNatHe5Vy"
      },
      "outputs": [],
      "source": [
        "# Check you solution by running this cell\n",
        "import math\n",
        "z = np.array([[1.0, 2.0, 3.0],\n",
        "              [2.0, 3.0, 4.0]])\n",
        "\n",
        "z_ans = np.array([[0.09, 0.24, 0.67],\n",
        "                  [0.09, 0.24, 0.67]])\n",
        "\n",
        "assert np.allclose(z_ans, softmax(z), rtol=1e-05)"
      ]
    },
    {
      "cell_type": "markdown",
      "metadata": {
        "id": "cQStNct2e5Vz"
      },
      "source": [
        "---\n",
        "## Question 2:\n",
        "\n",
        "Write Python function `knn_predict` implementing the k-nearest neighbors (KNN) classification algorithm: Psudo code is given below for your help:\n",
        "For each test sample:\n",
        "* a. Calculate the distance between the test sample and each training sample.\n",
        "* b. Sort the distances in ascending order and select the k nearest neighbors.\n",
        "* c. Determine the majority class among the k nearest neighbors.\n",
        "* d. Assign the test sample to the majority class."
      ]
    },
    {
      "cell_type": "code",
      "execution_count": null,
      "metadata": {
        "deletable": false,
        "nbgrader": {
          "cell_type": "code",
          "checksum": "cb412c57a32a68a61116414db239dbfa",
          "grade": false,
          "grade_id": "my_RMregression_ans",
          "locked": false,
          "schema_version": 3,
          "solution": true,
          "task": false
        },
        "id": "YDQvnETCe5V1"
      },
      "outputs": [],
      "source": [
        "import numpy as np\n",
        "\n",
        "def euclidean_distance(x1, x2):\n",
        "    \"\"\"\n",
        "    Compute the Euclidean distance between two points.\n",
        "\n",
        "    Parameters:\n",
        "    - x1 (numpy.ndarray): First point.\n",
        "    - x2 (numpy.ndarray): Second point.\n",
        "\n",
        "    Returns:\n",
        "    - distance (float): Euclidean distance between the points.\n",
        "    \"\"\"\n",
        "    return np.sqrt(np.sum((x1 - x2)**2))\n",
        "\n",
        "def knn_predict(X_train, y_train, X_test, k=3):\n",
        "    \"\"\"\n",
        "    Predict the class labels for test samples using k-nearest neighbors algorithm.\n",
        "\n",
        "    Parameters:\n",
        "    - X_train (numpy.ndarray): Training features.\n",
        "    - y_train (numpy.ndarray): Training labels.\n",
        "    - X_test (numpy.ndarray): Test features.\n",
        "    - k (int): Number of nearest neighbors to consider. Default is 3.\n",
        "\n",
        "    Returns:\n",
        "    - y_pred (list): Predicted labels for test samples.\n",
        "\n",
        "    Psudo Code given as follows:\n",
        "    For each test sample:\n",
        "        a. Calculate the distance between the test sample and each training sample.\n",
        "        b. Sort the distances in ascending order and select the k nearest neighbors.\n",
        "        c. Determine the majority class among the k nearest neighbors.\n",
        "        d. Assign the test sample to the majority class.\n",
        "\n",
        "    \"\"\"\n",
        "    # YOUR CODE HERE\n",
        "    raise NotImplementedError()\n"
      ]
    },
    {
      "cell_type": "code",
      "execution_count": null,
      "metadata": {
        "deletable": false,
        "editable": false,
        "nbgrader": {
          "cell_type": "code",
          "checksum": "e8719266c6d2a9fdb6f8e92918ce6acb",
          "grade": true,
          "grade_id": "my_KNN_test",
          "locked": true,
          "points": 3,
          "schema_version": 3,
          "solution": false,
          "task": false
        },
        "id": "cCJjdU-1e5V2"
      },
      "outputs": [],
      "source": [
        "# Check you solution by running this cell\n",
        "X_train = np.array([[1, 2], [2, 3], [3, 4], [4, 5], [5, 6]])\n",
        "y_train = [0, 0, 0, 1, 1]\n",
        "X_test = np.array([[3, 2], [5, 5]])\n",
        "y_test =[0, 1]\n",
        "\n",
        "assert knn_predict(X_train, y_train, X_test, k=3) == y_test"
      ]
    }
  ],
  "metadata": {
    "kernelspec": {
      "display_name": "Python 3",
      "language": "python",
      "name": "python3"
    },
    "language_info": {
      "codemirror_mode": {
        "name": "ipython",
        "version": 3
      },
      "file_extension": ".py",
      "mimetype": "text/x-python",
      "name": "python",
      "nbconvert_exporter": "python",
      "pygments_lexer": "ipython3",
      "version": "3.7.11"
    },
    "colab": {
      "provenance": [],
      "include_colab_link": true
    }
  },
  "nbformat": 4,
  "nbformat_minor": 0
}