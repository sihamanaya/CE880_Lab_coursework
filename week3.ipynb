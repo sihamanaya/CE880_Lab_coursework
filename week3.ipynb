{
  "cells": [
    {
      "cell_type": "markdown",
      "metadata": {
        "id": "view-in-github",
        "colab_type": "text"
      },
      "source": [
        "<a href=\"https://colab.research.google.com/github/sihamanaya/CE880_Lab_coursework/blob/main/week3.ipynb\" target=\"_parent\"><img src=\"https://colab.research.google.com/assets/colab-badge.svg\" alt=\"Open In Colab\"/></a>"
      ]
    },
    {
      "cell_type": "markdown",
      "metadata": {
        "id": "VzpTdf4Z3lt8"
      },
      "source": [
        "Before you turn this problem in, make sure everything runs as expected. First, **restart the kernel** (in the menubar, select Kernel$\\rightarrow$Restart) and then **run all cells** (in the menubar, select Cell$\\rightarrow$Run All).\n",
        "\n",
        "Make sure you fill in any place that says `YOUR CODE HERE` or \"YOUR ANSWER HERE\", as well as your name and collaborators below:"
      ]
    },
    {
      "cell_type": "code",
      "execution_count": null,
      "metadata": {
        "id": "bqlg6zoP3lt_"
      },
      "outputs": [],
      "source": [
        "NAME = \"Siham Anaya\"\n",
        "COLLABORATORS = \"2316969\""
      ]
    },
    {
      "cell_type": "markdown",
      "metadata": {
        "id": "o7ZjAMxf3luA"
      },
      "source": [
        "---"
      ]
    },
    {
      "cell_type": "markdown",
      "metadata": {
        "id": "6HvDfGDuE5mN"
      },
      "source": [
        "---\n",
        "# Welcome to CE880\n",
        "### This is your week-3 : Problem 1 notebook\n",
        "\n",
        "For this problem set, we'll be using the Jupyter notebook and please upload this notebook to [Google Colab](https://colab.research.google.com/).\n"
      ]
    },
    {
      "cell_type": "markdown",
      "metadata": {
        "id": "ZlWkgitfE5mO"
      },
      "source": [
        "---\n",
        "## Question 1:\n",
        "\n",
        "We have already loaded `iris` dataset for you. Now, write a function to calculate the `median` on the 1st column of the dataset.\n",
        "`Hint`: To find the median, you first need to sort the values in your sample. But, before that we have sliced, the first column of `iris` data into a variable name `sample` and data type is a list. Then pass `sample` list as a parameter in you `my_median` function.\n",
        "\n",
        "`Note`: Please don't use `np.median` function. Write your own custom function"
      ]
    },
    {
      "cell_type": "code",
      "execution_count": null,
      "metadata": {
        "deletable": false,
        "id": "7FBRZiZUE5mP",
        "nbgrader": {
          "cell_type": "code",
          "checksum": "6c07fe96b9932fc15348b970fa2caa6c",
          "grade": false,
          "grade_id": "my_median_ans",
          "locked": false,
          "schema_version": 3,
          "solution": true
        }
      },
      "outputs": [],
      "source": [
        "from sklearn import datasets\n",
        "import numpy as np\n",
        "import pandas as pd\n",
        "\n",
        "iris = datasets.load_iris()\n",
        "sample = list(iris.data[:,0])\n",
        "\n",
        "def my_median(sample):\n",
        "    \"\"\"Function for calculating median\"\"\"\n",
        "    # YOUR CODE HERE\n",
        "    raise NotImplementedError()"
      ]
    },
    {
      "cell_type": "code",
      "execution_count": null,
      "metadata": {
        "deletable": false,
        "editable": false,
        "id": "ootdMSn7E5mP",
        "nbgrader": {
          "cell_type": "code",
          "checksum": "7512a6da9468084b73bed8ed1d41ea5c",
          "grade": true,
          "grade_id": "my_median_test",
          "locked": false,
          "points": 1,
          "schema_version": 3,
          "solution": false
        }
      },
      "outputs": [],
      "source": [
        "\"\"\"Check your output\"\"\"\n",
        "import math\n",
        "assert math.isclose(my_median(sample), 5.8, rel_tol=0.05)"
      ]
    },
    {
      "cell_type": "markdown",
      "metadata": {
        "id": "SaECaolwE5mQ"
      },
      "source": [
        "---\n",
        "\n",
        "## Question 2:\n",
        "\n",
        "Write a function to Caluate Interquartile Range (IQR) on the second column of `iris` dataset, which you have loaded in the question 1.\n",
        "`hint`: We have created a new variable `sample2` and sliced the second column of the `iris` data. Please explore `np.percentile` function"
      ]
    },
    {
      "cell_type": "code",
      "execution_count": null,
      "metadata": {
        "deletable": false,
        "id": "b9pap4PtE5mQ",
        "nbgrader": {
          "cell_type": "code",
          "checksum": "63a0b14e4ccc1d4f5fbf91e85b5c0bbc",
          "grade": false,
          "grade_id": "my_quartile_ans",
          "locked": false,
          "schema_version": 3,
          "solution": true
        }
      },
      "outputs": [],
      "source": [
        "\n",
        "sample2 = list(iris.data[:,1])\n",
        "\n",
        "def my_quartile(sample2):\n",
        "    \"\"\"Caluate Interquartile Range of the given list.\"\"\"\n",
        "    # YOUR CODE HERE\n",
        "    raise NotImplementedError()"
      ]
    },
    {
      "cell_type": "code",
      "execution_count": null,
      "metadata": {
        "deletable": false,
        "editable": false,
        "id": "f2xlQ2igE5mR",
        "nbgrader": {
          "cell_type": "code",
          "checksum": "3358b876f5de2b9b5fb2c36f6aa400ae",
          "grade": true,
          "grade_id": "my_quartile_test",
          "locked": false,
          "points": 1,
          "schema_version": 3,
          "solution": false
        }
      },
      "outputs": [],
      "source": [
        "\"\"\"Check that correct answers here\"\"\"\n",
        "import math\n",
        "assert math.isclose(my_quartile(sample2), 0.5, rel_tol=0.05)"
      ]
    },
    {
      "cell_type": "markdown",
      "metadata": {
        "id": "3viaglBtE5mR"
      },
      "source": [
        "---\n",
        "## Question 3:\n",
        "\n",
        "Create a function that, given a data frame `df`, returns the name feature with the highest standard deviation across all species. For instance, if the function is called `feature_with_highest_std(data):`,\" it should return `pl` as the feature with the highest standard deviation, where `pl` stands for `petal length (cm)`."
      ]
    },
    {
      "cell_type": "code",
      "execution_count": null,
      "metadata": {
        "deletable": false,
        "nbgrader": {
          "cell_type": "code",
          "checksum": "652b75e20f0ff3a2f895a223e3e74e23",
          "grade": false,
          "grade_id": "ans_high_std",
          "locked": false,
          "schema_version": 3,
          "solution": true,
          "task": false
        },
        "id": "BrKpI6GQ3luG"
      },
      "outputs": [],
      "source": [
        "import math\n",
        "\n",
        "from sklearn.datasets import load_iris\n",
        "import pandas as pd\n",
        "import numpy as np\n",
        "\n",
        "data = load_iris()\n",
        "df = pd.DataFrame(data=data.data, columns=data.feature_names)\n",
        "df = df.rename(columns={\"sepal length (cm)\": \"sl\", \"sepal width (cm)\": \"sw\",\n",
        "                        \"petal length (cm)\":\"pl\", \"petal width (cm)\": \"pw\" })\n",
        "df.head()\n",
        "\n",
        "def feature_with_highest_std(data):\n",
        "    # YOUR CODE HERE\n",
        "    raise NotImplementedError()\n"
      ]
    },
    {
      "cell_type": "code",
      "execution_count": null,
      "metadata": {
        "deletable": false,
        "editable": false,
        "id": "6AuPQgQfE5mS",
        "nbgrader": {
          "cell_type": "code",
          "checksum": "1640f6e29dee77990076c2e29bdb162f",
          "grade": true,
          "grade_id": "my_std_test",
          "locked": true,
          "points": 2,
          "schema_version": 3,
          "solution": false,
          "task": false
        }
      },
      "outputs": [],
      "source": [
        "\"\"\"Test you solution\"\"\"\n",
        "assert feature_with_highest_std(df) == 'pl'"
      ]
    },
    {
      "cell_type": "markdown",
      "metadata": {
        "id": "MxpRyuPvE5mT"
      },
      "source": [
        "---\n",
        "## Question 4:\n",
        "\n",
        "You have been given the `Iris` dataset from the `sklearn` library. Write a Python function `custom_mean(dataset, feature_name)` that takes an `Iris` dataset and a `feature name` as input and returns the custom mean of that feature. The custom mean is calculated by: Removing the top 10% of the highest values and the bottom 10% of the lowest values for that feature. Calculating the mean of the remaining values and round it to two decimal points."
      ]
    },
    {
      "cell_type": "code",
      "execution_count": null,
      "metadata": {
        "deletable": false,
        "id": "QKk8PKecE5mT",
        "nbgrader": {
          "cell_type": "code",
          "checksum": "ef3e8ba65194b05cec94256a84c8dba9",
          "grade": false,
          "grade_id": "my_mean_ans",
          "locked": false,
          "schema_version": 3,
          "solution": true,
          "task": false
        }
      },
      "outputs": [],
      "source": [
        "def custom_mean(data, feature_name):\n",
        "    \"\"\"Create Python function custom_mean using Iris dataset,\n",
        "    input feature name, and calculate mean after removing extremes.\"\"\"\n",
        "    # YOUR CODE HERE\n",
        "    raise NotImplementedError()\n"
      ]
    },
    {
      "cell_type": "code",
      "execution_count": null,
      "metadata": {
        "deletable": false,
        "editable": false,
        "id": "cMX-OqiwE5mT",
        "nbgrader": {
          "cell_type": "code",
          "checksum": "440a1e095c66bf4dbac473d5c826c8d3",
          "grade": true,
          "grade_id": "my_mean_test",
          "locked": true,
          "points": 2,
          "schema_version": 3,
          "solution": false,
          "task": false
        }
      },
      "outputs": [],
      "source": [
        "\"\"\"Test you solution\"\"\"\n",
        "assert custom_mean(df, 'sl') == 5.79\n",
        "assert custom_mean(df, 'sw') == 3.03\n",
        "assert custom_mean(df, 'pl') == 3.72\n",
        "assert custom_mean(df, 'pw') == 1.12"
      ]
    },
    {
      "cell_type": "code",
      "execution_count": null,
      "metadata": {
        "id": "c7s3_iu03luI"
      },
      "outputs": [],
      "source": []
    }
  ],
  "metadata": {
    "colab": {
      "provenance": [],
      "include_colab_link": true
    },
    "kernelspec": {
      "display_name": "Python 3",
      "language": "python",
      "name": "python3"
    },
    "language_info": {
      "codemirror_mode": {
        "name": "ipython",
        "version": 3
      },
      "file_extension": ".py",
      "mimetype": "text/x-python",
      "name": "python",
      "nbconvert_exporter": "python",
      "pygments_lexer": "ipython3",
      "version": "3.7.11"
    }
  },
  "nbformat": 4,
  "nbformat_minor": 0
}