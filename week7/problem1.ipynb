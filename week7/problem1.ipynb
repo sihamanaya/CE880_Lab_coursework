{
  "cells": [
    {
      "cell_type": "markdown",
      "metadata": {
        "id": "view-in-github",
        "colab_type": "text"
      },
      "source": [
        "<a href=\"https://colab.research.google.com/github/sihamanaya/CE880_Lab_coursework/blob/main/week7/problem1.ipynb\" target=\"_parent\"><img src=\"https://colab.research.google.com/assets/colab-badge.svg\" alt=\"Open In Colab\"/></a>"
      ]
    },
    {
      "cell_type": "markdown",
      "metadata": {
        "id": "FnZTX6RuBtMG"
      },
      "source": [
        "Before you turn this problem in, make sure everything runs as expected. First, **restart the kernel** (in the menubar, select Kernel$\\rightarrow$Restart) and then **run all cells** (in the menubar, select Cell$\\rightarrow$Run All).\n",
        "\n",
        "Make sure you fill in any place that says `YOUR CODE HERE` or \"YOUR ANSWER HERE\", as well as your name and collaborators below:"
      ]
    },
    {
      "cell_type": "code",
      "execution_count": null,
      "metadata": {
        "id": "gjcjOkfIBtMJ"
      },
      "outputs": [],
      "source": [
        "NAME = \"SIHAM ANAYA\"\n",
        "COLLABORATORS = \"2316969\""
      ]
    },
    {
      "cell_type": "markdown",
      "metadata": {
        "id": "yL7p2heTBtML"
      },
      "source": [
        "---"
      ]
    },
    {
      "cell_type": "markdown",
      "metadata": {
        "id": "HMbXwwD0BtMM"
      },
      "source": [
        "---\n",
        "# Welcome to CE880\n",
        "### This is your week-7 : Problem notebook\n",
        "\n",
        "For this problem set, we'll be using the Jupyter notebook and please upload this notebook to [Google Colab](https://colab.research.google.com/)."
      ]
    },
    {
      "cell_type": "markdown",
      "metadata": {
        "id": "lHgXJB5zBtMN"
      },
      "source": [
        "---\n",
        "## Question 1:\n",
        "#### Bootstrapping\n",
        "Write a Python function to estimate the `mean` of the `heights` using `bootstrapping`. Your function should take the sample data as input and generate multiple bootstrap samples to compute the estimates."
      ]
    },
    {
      "cell_type": "code",
      "execution_count": 5,
      "metadata": {
        "deletable": false,
        "nbgrader": {
          "cell_type": "code",
          "checksum": "d43774bc32d440b4a8fa05983f56f659",
          "grade": false,
          "grade_id": "my_bootstrapping_ans",
          "locked": false,
          "schema_version": 3,
          "solution": true,
          "task": false
        },
        "id": "xqTrlayiBtMP",
        "outputId": "3f40b5d4-678f-4419-946f-d6e1d4949b78",
        "colab": {
          "base_uri": "https://localhost:8080/"
        }
      },
      "outputs": [
        {
          "output_type": "stream",
          "name": "stdout",
          "text": [
            "174.9909\n"
          ]
        },
        {
          "output_type": "execute_result",
          "data": {
            "text/plain": [
              "175.01364999999998"
            ]
          },
          "metadata": {},
          "execution_count": 5
        }
      ],
      "source": [
        "import numpy as np\n",
        "\n",
        "def bootstrap_estimate_height(sample_data, num_samples, sample_size):\n",
        "    \"\"\"\n",
        "    Estimate the mean of heights using bootstrapping.\n",
        "\n",
        "    Parameters:\n",
        "    - sample_data (numpy.ndarray): Sample data containing heights.\n",
        "    - num_samples (int): Number of bootstrap samples to generate.\n",
        "    - sample_size (int): Size of each bootstrap sample.\n",
        "\n",
        "    Returns:\n",
        "    - mean_estimate (float): Estimated mean height.\n",
        "    \"\"\"\n",
        "    # YOUR CODE HERE\n",
        "    mean_estimates = []\n",
        "    for _ in range(num_samples):\n",
        "        bootstrap_sample = np.random.choice(sample_data, size=sample_size, replace=True)\n",
        "        mean_estimates.append(np.mean(bootstrap_sample))\n",
        "\n",
        "    mean_estimate = np.mean(mean_estimates)\n",
        "    return mean_estimate\n",
        "\n",
        "# Define the sample_data, num_samples, and sample_size\n",
        "sample_data = np.array([165, 170, 175, 180, 185])  # Example data\n",
        "num_samples = 1000  # Number of bootstrap samples to generate\n",
        "sample_size = 100  # Size of each bootstrap sample\n",
        "\n",
        "# Call the function\n",
        "mean_estimate = bootstrap_estimate_height(sample_data, num_samples, sample_size)\n",
        "print(mean_estimate)\n",
        "#raise NotImplementedError()\n",
        "bootstrap_estimate_height(sample_data, num_samples, sample_size)\n",
        "\n",
        ""
      ]
    },
    {
      "cell_type": "code",
      "execution_count": 6,
      "metadata": {
        "deletable": false,
        "editable": false,
        "nbgrader": {
          "cell_type": "code",
          "checksum": "5acaf56dd83d25b5812b78f5ee956dbf",
          "grade": true,
          "grade_id": "my_bootstrapping_test",
          "locked": true,
          "points": 2,
          "schema_version": 3,
          "solution": false,
          "task": false
        },
        "id": "_6fXh949BtMR"
      },
      "outputs": [],
      "source": [
        "# Check you solution by running this cell\n",
        "\n",
        "# Sample data (heights of students)\n",
        "sample_data = np.array([160, 165, 170, 175, 180, 185, 190, 160, 165, 170, 175, 180, 185, 190])\n",
        "\n",
        "# Parameters\n",
        "num_samples = 1000\n",
        "sample_size = len(sample_data)\n",
        "\n",
        "tolerance = 0.05\n",
        "assert np.allclose(bootstrap_estimate_height(sample_data, num_samples, sample_size), 175.02, rtol=tolerance)"
      ]
    },
    {
      "cell_type": "markdown",
      "metadata": {
        "id": "W21qXEQ8BtMS"
      },
      "source": [
        "---\n",
        "## Question 2:\n",
        "\n",
        "#### Majority Voting\n",
        "Given a list = `[1,2,3,2,2,1,3,3,3,2,2,1]`, consider 12 judges sitting and deciding among 3 contenders. Write a function to find the winner-based on a majority voting scheme."
      ]
    },
    {
      "cell_type": "code",
      "execution_count": 18,
      "metadata": {
        "deletable": false,
        "nbgrader": {
          "cell_type": "code",
          "checksum": "7cad86b0a0decd076f3d2ef47b730388",
          "grade": false,
          "grade_id": "my_pairedttest_ans",
          "locked": false,
          "schema_version": 3,
          "solution": true,
          "task": false
        },
        "id": "ZXI0cCk8BtMU"
      },
      "outputs": [],
      "source": [
        "def my_majorityvote(a):\n",
        "    \"\"\"Write a function to find the majority voting.\"\"\"\n",
        "    # YOUR CODE HERE\n",
        "    \"\"\"\n",
        "    Find the winner based on a majority voting scheme.\n",
        "\n",
        "    Parameters:\n",
        "    - a (list): List of votes.\n",
        "\n",
        "    Returns:\n",
        "    - winner: The winner based on the majority of votes.\n",
        "    \"\"\"\n",
        "    from collections import Counter\n",
        "\n",
        "    # Count the occurrences of each contender\n",
        "    vote_counts = Counter(a)\n",
        "\n",
        "    # Find the contender with the maximum number of votes\n",
        "    winner = max(vote_counts, key=vote_counts.get)\n",
        "\n",
        "    return winner\n",
        "#raise NotImplementedError()\n"
      ]
    },
    {
      "cell_type": "code",
      "execution_count": 19,
      "metadata": {
        "deletable": false,
        "editable": false,
        "nbgrader": {
          "cell_type": "code",
          "checksum": "8f9bbb784a631ef4cc695b93ae1f24a3",
          "grade": true,
          "grade_id": "my_pairedttest_test",
          "locked": true,
          "points": 2,
          "schema_version": 3,
          "solution": false,
          "task": false
        },
        "id": "8lNnjRGbBtMX"
      },
      "outputs": [],
      "source": [
        "# Check you solution by running this cell\n",
        "# Test case 1\n",
        "a = np.array([1,2,3,2,2,1,3,3,3,2,2,1])\n",
        "assert my_majorityvote(a) == 2\n",
        "\n",
        "# Test case 2\n",
        "b = np.array([1,2,2,2,3,3,3,3,3,1])\n",
        "assert my_majorityvote(b) == 3"
      ]
    },
    {
      "cell_type": "markdown",
      "metadata": {
        "id": "OST2XHaQBtMY"
      },
      "source": [
        "---\n",
        "## Question 3:\n",
        "The `Gini index` is a measure of impurity or inequality used in `decision tree` algorithms. It quantifies the likelihood of misclassifying a randomly chosen element if it were randomly classified according to the distribution of labels in the node. The formula is given as follows:\n",
        "\n",
        "\n",
        "<img src=\"https://www.learnbymarketing.com/wp-content/uploads/2016/02/gini-index-formula.png\" alt=\"drawing\" style=\"width:200px;\"/>\n",
        "\n",
        "Write a function `calculate_gini_index` calculate `Gini index`. Labels is a list of class labels. Your function `calculate_gini_index` should calculates the `Gini index` based on the frequency of each class label in the dataset. Finally, it returns the Gini index value as an output.\n"
      ]
    },
    {
      "cell_type": "code",
      "execution_count": 26,
      "metadata": {
        "deletable": false,
        "nbgrader": {
          "cell_type": "code",
          "checksum": "dd9d6192891bdc46c6f1e8c74941ec4e",
          "grade": false,
          "grade_id": "my_GiniIdex",
          "locked": false,
          "schema_version": 3,
          "solution": true,
          "task": false
        },
        "id": "hsRgUHEuBtMZ",
        "outputId": "3c9e4136-3a49-4b2e-f277-7ead002c64f5",
        "colab": {
          "base_uri": "https://localhost:8080/"
        }
      },
      "outputs": [
        {
          "output_type": "stream",
          "name": "stdout",
          "text": [
            "Gini index: 0.611111111111111\n"
          ]
        }
      ],
      "source": [
        "def calculate_gini_index(labels):\n",
        "    \"\"\"\n",
        "    Calculate the Gini index for a set of class labels.\n",
        "\n",
        "    Parameters:\n",
        "    - labels (list or numpy.ndarray): List of class labels.\n",
        "\n",
        "    Returns:\n",
        "    - gini_index (float): Gini index.\n",
        "    \"\"\"\n",
        "    # YOUR CODE HERE\n",
        "from collections import Counter\n",
        "\n",
        "def calculate_gini_index(labels):\n",
        "    \"\"\"\n",
        "    Calculate the Gini index for a set of class labels.\n",
        "\n",
        "    Parameters:\n",
        "    - labels (list or numpy.ndarray): List of class labels.\n",
        "\n",
        "    Returns:\n",
        "    - gini_index (float): Gini index.\n",
        "    \"\"\"\n",
        "    # Count the occurrences of each class label\n",
        "    label_counts = Counter(labels)\n",
        "\n",
        "    # Calculate the total number of samples\n",
        "    total_samples = len(labels)\n",
        "\n",
        "    # Calculate the Gini index\n",
        "    gini_index = 1.0\n",
        "    for label in label_counts:\n",
        "        label_prob = label_counts[label] / total_samples\n",
        "        gini_index -= label_prob ** 2\n",
        "\n",
        "    return gini_index\n",
        "\n",
        "# Define your list of class labels\n",
        "labels = [1, 1, 2, 2, 2, 3]\n",
        "\n",
        "# Call the function with your list of class labels\n",
        "gini_index = calculate_gini_index(labels)\n",
        "print(\"Gini index:\", gini_index)\n",
        "#raise NotImplementedError()\n",
        "\n"
      ]
    },
    {
      "cell_type": "code",
      "execution_count": 27,
      "metadata": {
        "deletable": false,
        "editable": false,
        "nbgrader": {
          "cell_type": "code",
          "checksum": "ac9523bae4e0d44ddcba28818ff88dc0",
          "grade": true,
          "grade_id": "my_GiniIdex_solution",
          "locked": true,
          "points": 2,
          "schema_version": 3,
          "solution": false,
          "task": false
        },
        "id": "EdWCyaSzBtMa"
      },
      "outputs": [],
      "source": [
        "# Check you solution by running this cell\n",
        "\n",
        "# Test case 1\n",
        "labels = [1, 0, 1, 1, 1, 1, 0, 1]\n",
        "gini_index = calculate_gini_index(labels)\n",
        "assert gini_index == 0.375\n",
        "\n",
        "\n",
        "# Test case 2\n",
        "labels = [1, 0, 0, 0, 1, 1, 0, 1]\n",
        "gini_index = calculate_gini_index(labels)\n",
        "assert gini_index == 0.5\n"
      ]
    }
  ],
  "metadata": {
    "kernelspec": {
      "display_name": "Python 3",
      "language": "python",
      "name": "python3"
    },
    "language_info": {
      "codemirror_mode": {
        "name": "ipython",
        "version": 3
      },
      "file_extension": ".py",
      "mimetype": "text/x-python",
      "name": "python",
      "nbconvert_exporter": "python",
      "pygments_lexer": "ipython3",
      "version": "3.7.11"
    },
    "colab": {
      "provenance": [],
      "include_colab_link": true
    }
  },
  "nbformat": 4,
  "nbformat_minor": 0
}