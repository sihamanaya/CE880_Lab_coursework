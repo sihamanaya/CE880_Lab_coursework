{
  "cells": [
    {
      "cell_type": "markdown",
      "metadata": {
        "id": "view-in-github",
        "colab_type": "text"
      },
      "source": [
        "<a href=\"https://colab.research.google.com/github/sihamanaya/CE880_Lab_coursework/blob/main/week4.ipynb\" target=\"_parent\"><img src=\"https://colab.research.google.com/assets/colab-badge.svg\" alt=\"Open In Colab\"/></a>"
      ]
    },
    {
      "cell_type": "markdown",
      "metadata": {
        "id": "Q8COTCm-32vM"
      },
      "source": [
        "Before you turn this problem in, make sure everything runs as expected. First, **restart the kernel** (in the menubar, select Kernel$\\rightarrow$Restart) and then **run all cells** (in the menubar, select Cell$\\rightarrow$Run All).\n",
        "\n",
        "Make sure you fill in any place that says `YOUR CODE HERE` or \"YOUR ANSWER HERE\", as well as your name and collaborators below:"
      ]
    },
    {
      "cell_type": "code",
      "execution_count": null,
      "metadata": {
        "id": "82Lm-8Py32vP"
      },
      "outputs": [],
      "source": [
        "NAME = \"Siham Anaya\"\n",
        "COLLABORATORS = \"2316969\""
      ]
    },
    {
      "cell_type": "markdown",
      "metadata": {
        "id": "vh-zYRwW32vQ"
      },
      "source": [
        "---"
      ]
    },
    {
      "cell_type": "markdown",
      "metadata": {
        "id": "EKed27D732vR"
      },
      "source": [
        "---\n",
        "# Welcome to CE880\n",
        "### This is your week-4 : Problem notebook\n",
        "\n",
        "For this problem set, we'll be using the Jupyter notebook and please upload this notebook to [Google Colab](https://colab.research.google.com/).\n",
        "\n",
        "### Task: Complete all the three questions given as follows:"
      ]
    },
    {
      "cell_type": "code",
      "execution_count": null,
      "metadata": {
        "id": "U9D7LbZF32vS"
      },
      "outputs": [],
      "source": [
        "# install sklearn package if you are using local computer and if you are using Google Coalb then skip this step\n",
        "# !pip install -U scikit-learn # Run if required"
      ]
    },
    {
      "cell_type": "code",
      "execution_count": null,
      "metadata": {
        "id": "kUzjljmi32vT"
      },
      "outputs": [],
      "source": [
        "import pandas as pd\n",
        "import numpy as np\n",
        "from sklearn.cluster import DBSCAN\n",
        "from sklearn.cluster import KMeans\n",
        "from sklearn.datasets import make_circles, make_moons\n",
        "from sklearn.metrics import adjusted_rand_score\n",
        "from sklearn.preprocessing import StandardScaler\n",
        "from sklearn.metrics import silhouette_score, adjusted_rand_score\n",
        "from sklearn.decomposition import PCA\n",
        "scaler = StandardScaler()"
      ]
    },
    {
      "cell_type": "markdown",
      "metadata": {
        "id": "p6JzV1CW32vT"
      },
      "source": [
        "---\n",
        "## Question 1:\n",
        "We have already loaded `moon` data for you using `make_moons` function.\n",
        "\n",
        "Write a code to perform `k-means` clustering on `scaled_features` variable and return `silhouette_score` as an output"
      ]
    },
    {
      "cell_type": "code",
      "execution_count": null,
      "metadata": {
        "deletable": false,
        "nbgrader": {
          "cell_type": "code",
          "checksum": "eb70a44230015588c6d686c66b62ae5e",
          "grade": false,
          "grade_id": "myScore_kmean_ans",
          "locked": false,
          "schema_version": 3,
          "solution": true,
          "task": false
        },
        "id": "dGkl5QCn32vU"
      },
      "outputs": [],
      "source": [
        "# Let's make two moons, where n=250 is the number of samples\n",
        "features, true_labels = make_moons(n_samples=250, noise=0.05, random_state=42)\n",
        "# fit_transform() method is basically the combination of fit method and transform method,\n",
        "# it is equivalent to fit().transform(). This method performs fit and transform on the\n",
        "# input data at a single time and converts the data points.\n",
        "# If we use fit and transform separate when we need both then it\n",
        "# will decrease the efficiency of the model so we use fit_transform()\n",
        "# which will do both the work.\n",
        "scaled_features = scaler.fit_transform(features)\n",
        "myscore = []\n",
        "\n",
        "def myScore_kmean(scaled_features):\n",
        "    \"\"\"Write code to perform k-means clustering and print silhouette_score\"\"\"\n",
        "    # YOUR CODE HERE\n",
        "    raise NotImplementedError()"
      ]
    },
    {
      "cell_type": "code",
      "execution_count": null,
      "metadata": {
        "deletable": false,
        "editable": false,
        "nbgrader": {
          "cell_type": "code",
          "checksum": "ff384726af44a533c03f314abed22cf8",
          "grade": true,
          "grade_id": "myScore_kmean_test",
          "locked": true,
          "points": 2,
          "schema_version": 3,
          "solution": false,
          "task": false
        },
        "id": "z04nsmZb32vV"
      },
      "outputs": [],
      "source": [
        "# Check you solution by running this cell\n",
        "import math\n",
        "assert math.isclose(myScore_kmean(scaled_features), 0.5, rel_tol=0.10)"
      ]
    },
    {
      "cell_type": "markdown",
      "metadata": {
        "id": "tUm_TY4a32vV"
      },
      "source": [
        "---\n",
        "## Question 2:\n",
        "\n",
        "Write a code to perform `DBSCAN` clustering algorithm on `scaled_features` and return `silhouette_score` as an output. Please set the `eps` = 0.2 and `min_samples` = 5"
      ]
    },
    {
      "cell_type": "code",
      "execution_count": null,
      "metadata": {
        "deletable": false,
        "nbgrader": {
          "cell_type": "code",
          "checksum": "9460552de971c1962050fbad85b95457",
          "grade": false,
          "grade_id": "myScore_DBSCAN_ans",
          "locked": false,
          "schema_version": 3,
          "solution": true,
          "task": false
        },
        "id": "BDPyPLeq32vW"
      },
      "outputs": [],
      "source": [
        "\n",
        "# Let's make two moons, where n is the number of samples\n",
        "from sklearn.datasets import make_moons\n",
        "features, true_labels =  make_moons(n_samples=250, noise=.1)\n",
        "\n",
        "def myScore_DBSCAN(scaled_features):\n",
        "    \"\"\"Write code to perform DBSCAN algorithm and print silhouette_score\"\"\"\n",
        "    # YOUR CODE HERE\n",
        "    raise NotImplementedError()"
      ]
    },
    {
      "cell_type": "code",
      "execution_count": null,
      "metadata": {
        "deletable": false,
        "editable": false,
        "nbgrader": {
          "cell_type": "code",
          "checksum": "0535b08a016135b8ef1071ba22d9bbae",
          "grade": true,
          "grade_id": "myScore_DBSCAN_test",
          "locked": true,
          "points": 2,
          "schema_version": 3,
          "solution": false,
          "task": false
        },
        "id": "iyMLHQqL32vW"
      },
      "outputs": [],
      "source": [
        "# Check you solution by running this cell\n",
        "assert math.isclose(myScore_DBSCAN(scaled_features), 0.2, rel_tol=0.10)"
      ]
    },
    {
      "cell_type": "markdown",
      "metadata": {
        "id": "XqxsdVA632vX"
      },
      "source": [
        "## Question 3:\n",
        "\n",
        "Complete this code perform `PCA`  on `iris data` and return `explained_variance_ratio_` as an output for the first two principal components (PCs)"
      ]
    },
    {
      "cell_type": "code",
      "execution_count": null,
      "metadata": {
        "deletable": false,
        "nbgrader": {
          "cell_type": "code",
          "checksum": "dd82ba18e8d651946a4d57e7ad4c6ab6",
          "grade": false,
          "grade_id": "myPCA_ans",
          "locked": false,
          "schema_version": 3,
          "solution": true,
          "task": false
        },
        "id": "51ShlOq632vX"
      },
      "outputs": [],
      "source": [
        "import pandas as pd\n",
        "url = \"https://archive.ics.uci.edu/ml/machine-learning-databases/iris/iris.data\"\n",
        "# load dataset into Pandas DataFrame\n",
        "df = pd.read_csv(url, names=['sepal length','sepal width','petal length','petal width','target'])\n",
        "\n",
        "features = ['sepal length', 'sepal width', 'petal length', 'petal width']\n",
        "# Separating out the features\n",
        "x = df.loc[:, features].values\n",
        "# Separating out the target\n",
        "y = df.loc[:,['target']].values\n",
        "# Standardizing the features\n",
        "x = StandardScaler().fit_transform(x)\n",
        "\n",
        "def myPCA(x):\n",
        "    \"\"\"Complete this code return the explained variance ratio for the first two prinical\n",
        "    components after doing PCA on x \"\"\"\n",
        "    # YOUR CODE HERE\n",
        "    raise NotImplementedError()"
      ]
    },
    {
      "cell_type": "code",
      "execution_count": null,
      "metadata": {
        "deletable": false,
        "editable": false,
        "nbgrader": {
          "cell_type": "code",
          "checksum": "2e809b5a12f6124c9a5dd16363dce006",
          "grade": true,
          "grade_id": "myPCA_test",
          "locked": true,
          "points": 2,
          "schema_version": 3,
          "solution": false,
          "task": false
        },
        "id": "jslVgTML32vY"
      },
      "outputs": [],
      "source": [
        "# Check you solution by running this cell\n",
        "x= myPCA(x)\n",
        "y = [0.7277045209380135, 0.23030523267680633]\n",
        "np.testing.assert_allclose(x, y, rtol=1e-5, atol=0)\n"
      ]
    }
  ],
  "metadata": {
    "kernelspec": {
      "display_name": "Python 3",
      "language": "python",
      "name": "python3"
    },
    "language_info": {
      "codemirror_mode": {
        "name": "ipython",
        "version": 3
      },
      "file_extension": ".py",
      "mimetype": "text/x-python",
      "name": "python",
      "nbconvert_exporter": "python",
      "pygments_lexer": "ipython3",
      "version": "3.7.11"
    },
    "colab": {
      "provenance": [],
      "include_colab_link": true
    }
  },
  "nbformat": 4,
  "nbformat_minor": 0
}