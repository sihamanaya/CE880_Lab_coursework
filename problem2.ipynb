{
  "cells": [
    {
      "cell_type": "markdown",
      "metadata": {
        "id": "view-in-github",
        "colab_type": "text"
      },
      "source": [
        "<a href=\"https://colab.research.google.com/github/sihamanaya/CE880_Lab_coursework/blob/main/problem2.ipynb\" target=\"_parent\"><img src=\"https://colab.research.google.com/assets/colab-badge.svg\" alt=\"Open In Colab\"/></a>"
      ]
    },
    {
      "cell_type": "markdown",
      "metadata": {
        "id": "y6ENnCu52_fV"
      },
      "source": [
        "Before you turn this problem in, make sure everything runs as expected. First, **restart the kernel** (in the menubar, select Kernel$\\rightarrow$Restart) and then **run all cells** (in the menubar, select Cell$\\rightarrow$Run All).\n",
        "\n",
        "Make sure you fill in any place that says `YOUR CODE HERE` or \"YOUR ANSWER HERE\", as well as your name and collaborators below:"
      ]
    },
    {
      "cell_type": "code",
      "execution_count": null,
      "metadata": {
        "id": "SZZnQRqj2_fX"
      },
      "outputs": [],
      "source": [
        "NAME = \"SIHAM ANAYA\"\n",
        "COLLABORATORS = \"2316969\""
      ]
    },
    {
      "cell_type": "markdown",
      "metadata": {
        "id": "uYqkaqp12_fY"
      },
      "source": [
        "---"
      ]
    },
    {
      "cell_type": "markdown",
      "metadata": {
        "id": "36PkvWOL2_fZ"
      },
      "source": [
        "---\n",
        "# Welcome to CE880\n",
        "### This is your week-2 : Problem 1 notebook\n",
        "### Autumn Term 2023-24\n",
        "#### Prepared by Dr Haider Raza\n",
        "\n",
        "For this problem set, we'll be using the Jupyter notebook and please upload this notebook to [Google Colab](https://colab.research.google.com/).\n"
      ]
    },
    {
      "cell_type": "markdown",
      "metadata": {
        "id": "J1RCCi6X2_fZ"
      },
      "source": [
        "---\n",
        "## Question 1:\n",
        "\n",
        "Write a Python function that takes a list of numbers and returns a list of their cosine values.\n",
        "\n",
        "By solving this question correctly you will get 1 point."
      ]
    },
    {
      "cell_type": "code",
      "execution_count": 1,
      "metadata": {
        "deletable": false,
        "nbgrader": {
          "cell_type": "code",
          "checksum": "ff033038baa3a1c0854a8cafdd2a353b",
          "grade": false,
          "grade_id": "cosine_ans",
          "locked": false,
          "schema_version": 3,
          "solution": true
        },
        "id": "UTp3D1AG2_fa"
      },
      "outputs": [],
      "source": [
        "import math\n",
        "def calculate_cosine_of_list(numbers):\n",
        "    \"\"\"Write a Python function that takes a list of numbers and returns a list of their cosine values \"\"\"\n",
        "    # YOUR CODE HERE\n",
        "    raise NotImplementedError()"
      ]
    },
    {
      "cell_type": "code",
      "execution_count": 2,
      "metadata": {
        "colab": {
          "base_uri": "https://localhost:8080/",
          "height": 321
        },
        "id": "XjRgeE-82_fb",
        "outputId": "ccb576cb-a42a-431a-a8d3-6e31e9156613"
      },
      "outputs": [
        {
          "output_type": "error",
          "ename": "NotImplementedError",
          "evalue": "ignored",
          "traceback": [
            "\u001b[0;31m---------------------------------------------------------------------------\u001b[0m",
            "\u001b[0;31mNotImplementedError\u001b[0m                       Traceback (most recent call last)",
            "\u001b[0;32m<ipython-input-2-3ddfb77a5c8f>\u001b[0m in \u001b[0;36m<cell line: 2>\u001b[0;34m()\u001b[0m\n\u001b[1;32m      1\u001b[0m \u001b[0mnumbers\u001b[0m \u001b[0;34m=\u001b[0m \u001b[0;34m[\u001b[0m\u001b[0;36m0\u001b[0m\u001b[0;34m,\u001b[0m \u001b[0;34m-\u001b[0m\u001b[0;36m2\u001b[0m\u001b[0;34m,\u001b[0m \u001b[0;36m44\u001b[0m\u001b[0;34m,\u001b[0m \u001b[0;34m-\u001b[0m\u001b[0;36m61\u001b[0m\u001b[0;34m,\u001b[0m \u001b[0;34m-\u001b[0m\u001b[0;36m30\u001b[0m\u001b[0;34m,\u001b[0m \u001b[0;36m44\u001b[0m\u001b[0;34m]\u001b[0m\u001b[0;34m\u001b[0m\u001b[0;34m\u001b[0m\u001b[0m\n\u001b[0;32m----> 2\u001b[0;31m \u001b[0mcosine_result\u001b[0m \u001b[0;34m=\u001b[0m \u001b[0mcalculate_cosine_of_list\u001b[0m\u001b[0;34m(\u001b[0m\u001b[0mnumbers\u001b[0m\u001b[0;34m)\u001b[0m\u001b[0;34m\u001b[0m\u001b[0;34m\u001b[0m\u001b[0m\n\u001b[0m\u001b[1;32m      3\u001b[0m \u001b[0mprint\u001b[0m\u001b[0;34m(\u001b[0m\u001b[0mcosine_result\u001b[0m\u001b[0;34m)\u001b[0m\u001b[0;34m\u001b[0m\u001b[0;34m\u001b[0m\u001b[0m\n",
            "\u001b[0;32m<ipython-input-1-d51b518d87eb>\u001b[0m in \u001b[0;36mcalculate_cosine_of_list\u001b[0;34m(numbers)\u001b[0m\n\u001b[1;32m      3\u001b[0m     \u001b[0;34m\"\"\"Write a Python function that takes a list of numbers and returns a list of their cosine values \"\"\"\u001b[0m\u001b[0;34m\u001b[0m\u001b[0;34m\u001b[0m\u001b[0m\n\u001b[1;32m      4\u001b[0m     \u001b[0;31m# YOUR CODE HERE\u001b[0m\u001b[0;34m\u001b[0m\u001b[0;34m\u001b[0m\u001b[0m\n\u001b[0;32m----> 5\u001b[0;31m     \u001b[0;32mraise\u001b[0m \u001b[0mNotImplementedError\u001b[0m\u001b[0;34m(\u001b[0m\u001b[0;34m)\u001b[0m\u001b[0;34m\u001b[0m\u001b[0;34m\u001b[0m\u001b[0m\n\u001b[0m",
            "\u001b[0;31mNotImplementedError\u001b[0m: "
          ]
        }
      ],
      "source": [
        "numbers = [0, -2, 44, -61, -30, 44]\n",
        "cosine_result = calculate_cosine_of_list(numbers)\n",
        "print(cosine_result)"
      ]
    },
    {
      "cell_type": "code",
      "execution_count": null,
      "metadata": {
        "deletable": false,
        "editable": false,
        "nbgrader": {
          "cell_type": "code",
          "checksum": "12ec39c2300df6dae98e98236cd13d5d",
          "grade": true,
          "grade_id": "cosine_test",
          "locked": false,
          "points": 1,
          "schema_version": 3,
          "solution": false
        },
        "id": "JabQ_94u2_fb"
      },
      "outputs": [],
      "source": [
        "\"\"\"Check your answer by running this cell\"\"\"\n",
        "\n",
        "# Test case 1\n",
        "my = [0, math.pi / 2, math.pi, 100, 200, 230]\n",
        "assert calculate_cosine_of_list(my) == [1.0, 0.0, -1.0, 0.86, 0.49, -0.79]\n",
        "\n",
        "# Test case 2\n",
        "my = [0, 2, 4, 6, -30, 400]\n",
        "assert calculate_cosine_of_list(my) == [1.0, -0.42, -0.65, 0.96, 0.15, -0.53]"
      ]
    },
    {
      "cell_type": "markdown",
      "metadata": {
        "id": "7YRjGRpI2_fc"
      },
      "source": [
        "---\n",
        "\n",
        "## Question 2:\n",
        "\n",
        "Given an array of integers, find two numbers such that they add up to a specific target sum. Return the indices of the two numbers. For example, given the array `[2, 7, 11, 15]` and the target `9`, the function should return `[0, 1]` since `2 + 7 = 9`.\n",
        "\n",
        "By solving this question correctly you will get 1 point."
      ]
    },
    {
      "cell_type": "code",
      "execution_count": null,
      "metadata": {
        "deletable": false,
        "nbgrader": {
          "cell_type": "code",
          "checksum": "d1ee6e06bb2ce6104d67f4aadaccfdae",
          "grade": false,
          "grade_id": "twosum_ans",
          "locked": false,
          "schema_version": 3,
          "solution": true
        },
        "id": "G5GncjT92_fd"
      },
      "outputs": [],
      "source": [
        "def two_sum(nums, target):\n",
        "    \"\"\"Given an array of integers, find two numbers such that they add\n",
        "    up to a specific target sum. Return the indices of the two numbers.\"\"\"\n",
        "    # YOUR CODE HERE\n",
        "    raise NotImplementedError()"
      ]
    },
    {
      "cell_type": "code",
      "execution_count": null,
      "metadata": {
        "id": "8NUxDFcb2_fd"
      },
      "outputs": [],
      "source": [
        "# Example for students\n",
        "nums = [2, 7, 11, 15]\n",
        "target = 9\n",
        "result = two_sum(nums, target)\n",
        "print(result)"
      ]
    },
    {
      "cell_type": "code",
      "execution_count": null,
      "metadata": {
        "deletable": false,
        "editable": false,
        "nbgrader": {
          "cell_type": "code",
          "checksum": "f4ddff07e93a2d08f1421f01ef9df298",
          "grade": true,
          "grade_id": "twosum_test",
          "locked": false,
          "points": 1,
          "schema_version": 3,
          "solution": false
        },
        "id": "U5oN-mvB2_fe"
      },
      "outputs": [],
      "source": [
        "\"\"\"Check your answer by running this cell\"\"\"\n",
        "\n",
        "# Case 1\n",
        "nums = [17, 12, 31, 6]\n",
        "target = 37\n",
        "assert two_sum(nums, target) == [2, 3]\n",
        "\n",
        "# Case 2\n",
        "nums = [1, 2, 4, 6, 30, 40]\n",
        "target = 31\n",
        "assert two_sum(nums, target) == [0, 4]"
      ]
    },
    {
      "cell_type": "markdown",
      "metadata": {
        "id": "Cej3LXpL2_fe"
      },
      "source": [
        "---\n",
        "## Question 3:\n",
        "\n",
        "Given an array containing all integers from `0` to `n` except for one missing number, find the missing number. For example, given `[3, 0, 1]`, the missing number is `2`.\n",
        "\n",
        "By solving this question correctly you will get 1 point."
      ]
    },
    {
      "cell_type": "code",
      "execution_count": null,
      "metadata": {
        "deletable": false,
        "nbgrader": {
          "cell_type": "code",
          "checksum": "547f47767c2e828bb2ffef564ce7f230",
          "grade": false,
          "grade_id": "missnum_ans",
          "locked": false,
          "schema_version": 3,
          "solution": true,
          "task": false
        },
        "id": "ZBRzUbWl2_ff"
      },
      "outputs": [],
      "source": [
        "\n",
        "def find_missing_number(nums):\n",
        "    \"\"\"Given an array containing all integers from 0 to n except for one missing number,\n",
        "    find the missing number. For example, given [3, 0, 1],\n",
        "    the missing number is 2.\"\"\"\n",
        "    # YOUR CODE HERE\n",
        "    raise NotImplementedError()"
      ]
    },
    {
      "cell_type": "code",
      "execution_count": null,
      "metadata": {
        "id": "7h9WRTH72_ff"
      },
      "outputs": [],
      "source": [
        "nums = [3, 0, 1]\n",
        "result = find_missing_number(nums)\n",
        "print(result)"
      ]
    },
    {
      "cell_type": "code",
      "execution_count": null,
      "metadata": {
        "deletable": false,
        "editable": false,
        "nbgrader": {
          "cell_type": "code",
          "checksum": "183cf5169e8c6124b54fbc8c962496fd",
          "grade": true,
          "grade_id": "missnum_test",
          "locked": true,
          "points": 1,
          "schema_version": 3,
          "solution": false,
          "task": false
        },
        "id": "m4b7ZwpW2_fg"
      },
      "outputs": [],
      "source": [
        "\"\"\"Check your answer by running this cell\"\"\"\n",
        "# Case 1\n",
        "nums = [3, 0, 1]\n",
        "assert find_missing_number(nums) == 2\n",
        "\n",
        "# Case 2\n",
        "nums = [4, 5, 6, 2, 0, 1]\n",
        "assert find_missing_number(nums) == 3\n"
      ]
    },
    {
      "cell_type": "markdown",
      "metadata": {
        "id": "yMG9X2-N2_fh"
      },
      "source": [
        "## Pandas Data Frame\n"
      ]
    },
    {
      "cell_type": "code",
      "execution_count": null,
      "metadata": {
        "id": "EMjtmfAf2_fh"
      },
      "outputs": [],
      "source": [
        "from sklearn import datasets\n",
        "import pandas as pd\n",
        "# Create a sample DataFrame\n",
        "data = {\n",
        "    'Name': ['Alice', 'Bob', 'Charlie', 'David'],\n",
        "    'Age': [25, 30, 28, 35],\n",
        "    'City': ['New York', 'Los Angeles', 'Chicago', 'Houston']\n",
        "}\n",
        "df = pd.DataFrame(data)\n",
        "df"
      ]
    },
    {
      "cell_type": "markdown",
      "metadata": {
        "id": "hMKRY30N2_fi"
      },
      "source": [
        "---\n",
        "## Question 4:\n",
        "\n",
        "Write a function to Find the age of the person named `Bob` and `Bob` is not in the Data Frame then return `0`.\n",
        "\n",
        "By solving this question correctly you will get 2 points."
      ]
    },
    {
      "cell_type": "code",
      "execution_count": null,
      "metadata": {
        "deletable": false,
        "nbgrader": {
          "cell_type": "code",
          "checksum": "64513603b09c32109925f76aae276034",
          "grade": false,
          "grade_id": "findele_ans",
          "locked": false,
          "schema_version": 3,
          "solution": true,
          "task": false
        },
        "id": "-1q91BWS2_fi"
      },
      "outputs": [],
      "source": [
        "def find_element(dataframe, name):\n",
        "    \"\"\"Write a function to Find the age of the person named \"Bob\" \"\"\"\n",
        "    # YOUR CODE HERE\n",
        "    raise NotImplementedError()"
      ]
    },
    {
      "cell_type": "code",
      "execution_count": null,
      "metadata": {
        "deletable": false,
        "editable": false,
        "nbgrader": {
          "cell_type": "code",
          "checksum": "2c07a1de91b894d2aa08755481efdf7f",
          "grade": true,
          "grade_id": "findele_test",
          "locked": true,
          "points": 2,
          "schema_version": 3,
          "solution": false,
          "task": false
        },
        "id": "AJLlsLPU2_fj"
      },
      "outputs": [],
      "source": [
        "assert find_element(df, 'Bob') == 30\n",
        "assert find_element(df, 'Charlie') == 28\n",
        "assert find_element(df, 'CE880') == 0"
      ]
    },
    {
      "cell_type": "markdown",
      "metadata": {
        "id": "av6rTOC02_fk"
      },
      "source": [
        "---\n",
        "## Question 5:\n",
        "\n",
        "\n",
        "Write a function to calculate the `mean` and `standard deviation` of `Age`. `Hint` Create a list and append value to it and return the output.\n",
        "\n",
        "By solving this question correctly you will get 1 point."
      ]
    },
    {
      "cell_type": "code",
      "execution_count": null,
      "metadata": {
        "id": "2Gfp0U-e2_fk"
      },
      "outputs": [],
      "source": []
    },
    {
      "cell_type": "code",
      "execution_count": null,
      "metadata": {
        "deletable": false,
        "nbgrader": {
          "cell_type": "code",
          "checksum": "18aa564be6881c41bbe0271904b270ce",
          "grade": false,
          "grade_id": "stats_ans",
          "locked": false,
          "schema_version": 3,
          "solution": true,
          "task": false
        },
        "id": "yT6NBPD72_fk"
      },
      "outputs": [],
      "source": [
        "def stats(X):\n",
        "    \"\"\"Write a functon to calculate mean and standard deviation of Age from the\n",
        "    above dataframe df and round the values to 2 decimals points .\"\"\"\n",
        "    # YOUR CODE HERE\n",
        "    raise NotImplementedError()"
      ]
    },
    {
      "cell_type": "code",
      "execution_count": null,
      "metadata": {
        "deletable": false,
        "editable": false,
        "nbgrader": {
          "cell_type": "code",
          "checksum": "80f05caa001e1201d5efbcbb906e4c1d",
          "grade": true,
          "grade_id": "stats_test",
          "locked": true,
          "points": 1,
          "schema_version": 3,
          "solution": false,
          "task": false
        },
        "id": "kr19P2QS2_fl"
      },
      "outputs": [],
      "source": [
        "\"\"\"Check your output\"\"\"\n",
        "# Test case\n",
        "x = stats(df)\n",
        "y= [29.5, 4.2]\n",
        "np.testing.assert_allclose(x, y, rtol=0.05, atol=0)"
      ]
    }
  ],
  "metadata": {
    "kernelspec": {
      "display_name": "Python 3",
      "language": "python",
      "name": "python3"
    },
    "language_info": {
      "codemirror_mode": {
        "name": "ipython",
        "version": 3
      },
      "file_extension": ".py",
      "mimetype": "text/x-python",
      "name": "python",
      "nbconvert_exporter": "python",
      "pygments_lexer": "ipython3",
      "version": "3.7.11"
    },
    "colab": {
      "provenance": [],
      "include_colab_link": true
    }
  },
  "nbformat": 4,
  "nbformat_minor": 0
}